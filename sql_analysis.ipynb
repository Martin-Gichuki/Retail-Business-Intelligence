{
 "cells": [
  {
   "cell_type": "markdown",
   "id": "7799f757",
   "metadata": {},
   "source": [
    "I have this data..."
   ]
  },
  {
   "cell_type": "code",
   "execution_count": 17,
   "id": "00bb6486",
   "metadata": {},
   "outputs": [],
   "source": [
    "import psycopg2\n",
    "import pandas as pd\n",
    "import numpy as np\n",
    "import matplotlib.pyplot as plt \n",
    "import seaborn as sns"
   ]
  },
  {
   "cell_type": "code",
   "execution_count": 5,
   "id": "472d62bb",
   "metadata": {},
   "outputs": [],
   "source": [
    "db_params = {\n",
    "    \"host\": \"localhost\",  # or \"127.0.0.1\" if your database is on the local machine\n",
    "    \"port\": 5432,         # Default PostgreSQL port\n",
    "    \"database\": \"Bike_stores\",\n",
    "    \"user\": \"postgres\",\n",
    "    \"password\": \"4823Em15@\"\n",
    "}\n",
    "conn = psycopg2.connect(**db_params)"
   ]
  },
  {
   "cell_type": "markdown",
   "id": "5181ba50",
   "metadata": {},
   "source": [
    "Sales and revenue breakdown"
   ]
  },
  {
   "cell_type": "code",
   "execution_count": 7,
   "id": "8f45ec75",
   "metadata": {},
   "outputs": [
    {
     "name": "stderr",
     "output_type": "stream",
     "text": [
      "C:\\Users\\Admin\\AppData\\Local\\Temp\\ipykernel_25476\\636704395.py:6: UserWarning: pandas only supports SQLAlchemy connectable (engine/connection) or database string URI or sqlite3 DBAPI2 connection. Other DBAPI2 objects are not tested. Please consider using SQLAlchemy.\n",
      "  pd.read_sql(query, conn)\n"
     ]
    },
    {
     "data": {
      "text/html": [
       "<div>\n",
       "<style scoped>\n",
       "    .dataframe tbody tr th:only-of-type {\n",
       "        vertical-align: middle;\n",
       "    }\n",
       "\n",
       "    .dataframe tbody tr th {\n",
       "        vertical-align: top;\n",
       "    }\n",
       "\n",
       "    .dataframe thead th {\n",
       "        text-align: right;\n",
       "    }\n",
       "</style>\n",
       "<table border=\"1\" class=\"dataframe\">\n",
       "  <thead>\n",
       "    <tr style=\"text-align: right;\">\n",
       "      <th></th>\n",
       "      <th>total_revenue</th>\n",
       "    </tr>\n",
       "  </thead>\n",
       "  <tbody>\n",
       "    <tr>\n",
       "      <th>0</th>\n",
       "      <td>7.689117e+06</td>\n",
       "    </tr>\n",
       "  </tbody>\n",
       "</table>\n",
       "</div>"
      ],
      "text/plain": [
       "   total_revenue\n",
       "0   7.689117e+06"
      ]
     },
     "execution_count": 7,
     "metadata": {},
     "output_type": "execute_result"
    }
   ],
   "source": [
    "query = \"\"\"\n",
    "SELECT \n",
    "    SUM(quantity * list_price * (1 - discount)) AS total_revenue\n",
    "FROM order_items;\n",
    "\"\"\"\n",
    "pd.read_sql(query, conn)\n"
   ]
  },
  {
   "cell_type": "code",
   "execution_count": 9,
   "id": "27b84709",
   "metadata": {},
   "outputs": [
    {
     "name": "stderr",
     "output_type": "stream",
     "text": [
      "C:\\Users\\Admin\\AppData\\Local\\Temp\\ipykernel_25476\\3783673814.py:11: UserWarning: pandas only supports SQLAlchemy connectable (engine/connection) or database string URI or sqlite3 DBAPI2 connection. Other DBAPI2 objects are not tested. Please consider using SQLAlchemy.\n",
      "  pd.read_sql(query, conn)\n"
     ]
    },
    {
     "data": {
      "text/html": [
       "<div>\n",
       "<style scoped>\n",
       "    .dataframe tbody tr th:only-of-type {\n",
       "        vertical-align: middle;\n",
       "    }\n",
       "\n",
       "    .dataframe tbody tr th {\n",
       "        vertical-align: top;\n",
       "    }\n",
       "\n",
       "    .dataframe thead th {\n",
       "        text-align: right;\n",
       "    }\n",
       "</style>\n",
       "<table border=\"1\" class=\"dataframe\">\n",
       "  <thead>\n",
       "    <tr style=\"text-align: right;\">\n",
       "      <th></th>\n",
       "      <th>store_name</th>\n",
       "      <th>revenue</th>\n",
       "    </tr>\n",
       "  </thead>\n",
       "  <tbody>\n",
       "    <tr>\n",
       "      <th>0</th>\n",
       "      <td>Baldwin Bikes</td>\n",
       "      <td>5.215751e+06</td>\n",
       "    </tr>\n",
       "    <tr>\n",
       "      <th>1</th>\n",
       "      <td>Santa Cruz Bikes</td>\n",
       "      <td>1.605823e+06</td>\n",
       "    </tr>\n",
       "    <tr>\n",
       "      <th>2</th>\n",
       "      <td>Rowlett Bikes</td>\n",
       "      <td>8.675422e+05</td>\n",
       "    </tr>\n",
       "  </tbody>\n",
       "</table>\n",
       "</div>"
      ],
      "text/plain": [
       "         store_name       revenue\n",
       "0     Baldwin Bikes  5.215751e+06\n",
       "1  Santa Cruz Bikes  1.605823e+06\n",
       "2     Rowlett Bikes  8.675422e+05"
      ]
     },
     "execution_count": 9,
     "metadata": {},
     "output_type": "execute_result"
    }
   ],
   "source": [
    "query = \"\"\"\n",
    "SELECT \n",
    "    s.store_name,\n",
    "    SUM(oi.quantity * oi.list_price * (1 - oi.discount)) AS revenue\n",
    "FROM order_items oi\n",
    "JOIN orders o ON oi.order_id = o.order_id\n",
    "JOIN stores s ON o.store_id = s.store_id\n",
    "GROUP BY s.store_name\n",
    "ORDER BY revenue DESC;\n",
    "\"\"\"\n",
    "pd.read_sql(query, conn)\n"
   ]
  },
  {
   "cell_type": "code",
   "execution_count": 10,
   "id": "d92f7df6",
   "metadata": {},
   "outputs": [
    {
     "name": "stderr",
     "output_type": "stream",
     "text": [
      "C:\\Users\\Admin\\AppData\\Local\\Temp\\ipykernel_25476\\2461237303.py:12: UserWarning: pandas only supports SQLAlchemy connectable (engine/connection) or database string URI or sqlite3 DBAPI2 connection. Other DBAPI2 objects are not tested. Please consider using SQLAlchemy.\n",
      "  pd.read_sql(query, conn)\n"
     ]
    },
    {
     "data": {
      "text/html": [
       "<div>\n",
       "<style scoped>\n",
       "    .dataframe tbody tr th:only-of-type {\n",
       "        vertical-align: middle;\n",
       "    }\n",
       "\n",
       "    .dataframe tbody tr th {\n",
       "        vertical-align: top;\n",
       "    }\n",
       "\n",
       "    .dataframe thead th {\n",
       "        text-align: right;\n",
       "    }\n",
       "</style>\n",
       "<table border=\"1\" class=\"dataframe\">\n",
       "  <thead>\n",
       "    <tr style=\"text-align: right;\">\n",
       "      <th></th>\n",
       "      <th>product_name</th>\n",
       "      <th>total_quantity</th>\n",
       "      <th>total_revenue</th>\n",
       "    </tr>\n",
       "  </thead>\n",
       "  <tbody>\n",
       "    <tr>\n",
       "      <th>0</th>\n",
       "      <td>Trek Slash 8 27.5 - 2016</td>\n",
       "      <td>154</td>\n",
       "      <td>555558.6111</td>\n",
       "    </tr>\n",
       "    <tr>\n",
       "      <th>1</th>\n",
       "      <td>Trek Conduit+ - 2016</td>\n",
       "      <td>145</td>\n",
       "      <td>389248.7025</td>\n",
       "    </tr>\n",
       "    <tr>\n",
       "      <th>2</th>\n",
       "      <td>Trek Fuel EX 8 29 - 2016</td>\n",
       "      <td>143</td>\n",
       "      <td>368472.7294</td>\n",
       "    </tr>\n",
       "    <tr>\n",
       "      <th>3</th>\n",
       "      <td>Surly Straggler 650b - 2016</td>\n",
       "      <td>151</td>\n",
       "      <td>226765.5510</td>\n",
       "    </tr>\n",
       "    <tr>\n",
       "      <th>4</th>\n",
       "      <td>Trek Domane SLR 6 Disc - 2017</td>\n",
       "      <td>43</td>\n",
       "      <td>211584.6153</td>\n",
       "    </tr>\n",
       "    <tr>\n",
       "      <th>5</th>\n",
       "      <td>Surly Straggler - 2016</td>\n",
       "      <td>147</td>\n",
       "      <td>203507.6200</td>\n",
       "    </tr>\n",
       "    <tr>\n",
       "      <th>6</th>\n",
       "      <td>Trek Remedy 29 Carbon Frameset - 2016</td>\n",
       "      <td>125</td>\n",
       "      <td>203380.8701</td>\n",
       "    </tr>\n",
       "    <tr>\n",
       "      <th>7</th>\n",
       "      <td>Trek Powerfly 8 FS Plus - 2017</td>\n",
       "      <td>41</td>\n",
       "      <td>188249.6235</td>\n",
       "    </tr>\n",
       "    <tr>\n",
       "      <th>8</th>\n",
       "      <td>Trek Madone 9.2 - 2017</td>\n",
       "      <td>39</td>\n",
       "      <td>175899.6482</td>\n",
       "    </tr>\n",
       "    <tr>\n",
       "      <th>9</th>\n",
       "      <td>Trek Silque SLR 8 Women's - 2017</td>\n",
       "      <td>29</td>\n",
       "      <td>174524.7315</td>\n",
       "    </tr>\n",
       "  </tbody>\n",
       "</table>\n",
       "</div>"
      ],
      "text/plain": [
       "                            product_name  total_quantity  total_revenue\n",
       "0               Trek Slash 8 27.5 - 2016             154    555558.6111\n",
       "1                   Trek Conduit+ - 2016             145    389248.7025\n",
       "2               Trek Fuel EX 8 29 - 2016             143    368472.7294\n",
       "3            Surly Straggler 650b - 2016             151    226765.5510\n",
       "4          Trek Domane SLR 6 Disc - 2017              43    211584.6153\n",
       "5                 Surly Straggler - 2016             147    203507.6200\n",
       "6  Trek Remedy 29 Carbon Frameset - 2016             125    203380.8701\n",
       "7         Trek Powerfly 8 FS Plus - 2017              41    188249.6235\n",
       "8                 Trek Madone 9.2 - 2017              39    175899.6482\n",
       "9       Trek Silque SLR 8 Women's - 2017              29    174524.7315"
      ]
     },
     "execution_count": 10,
     "metadata": {},
     "output_type": "execute_result"
    }
   ],
   "source": [
    "query = \"\"\"\n",
    "SELECT \n",
    "    p.product_name,\n",
    "    SUM(oi.quantity) AS total_quantity,\n",
    "    SUM(oi.quantity * oi.list_price * (1 - oi.discount)) AS total_revenue\n",
    "FROM order_items oi\n",
    "JOIN products p ON oi.product_id = p.product_id\n",
    "GROUP BY p.product_name\n",
    "ORDER BY total_revenue DESC\n",
    "LIMIT 10;\n",
    "\"\"\"\n",
    "pd.read_sql(query, conn)\n"
   ]
  },
  {
   "cell_type": "code",
   "execution_count": 16,
   "id": "b67f265f",
   "metadata": {},
   "outputs": [
    {
     "name": "stdout",
     "output_type": "stream",
     "text": [
      "         category_name  total_revenue\n",
      "0       Mountain Bikes   2.715080e+06\n",
      "1           Road Bikes   1.665098e+06\n",
      "2    Cruisers Bicycles   9.950326e+05\n",
      "3       Electric Bikes   9.166848e+05\n",
      "4  Cyclocross Bicycles   7.110118e+05\n",
      "5     Comfort Bicycles   3.940201e+05\n",
      "6    Children Bicycles   2.921892e+05\n",
      "     brand_name  total_revenue\n",
      "0          Trek   4.602754e+06\n",
      "1       Electra   1.205321e+06\n",
      "2         Surly   9.495071e+05\n",
      "3  Sun Bicycles   3.419949e+05\n",
      "4          Haro   1.853846e+05\n",
      "5        Heller   1.714591e+05\n",
      "6   Pure Cycles   1.494763e+05\n",
      "7       Ritchey   7.889895e+04\n",
      "8       Strider   4.320479e+03\n"
     ]
    },
    {
     "name": "stderr",
     "output_type": "stream",
     "text": [
      "C:\\Users\\Admin\\AppData\\Local\\Temp\\ipykernel_25476\\3935477587.py:12: UserWarning: pandas only supports SQLAlchemy connectable (engine/connection) or database string URI or sqlite3 DBAPI2 connection. Other DBAPI2 objects are not tested. Please consider using SQLAlchemy.\n",
      "  category_df = pd.read_sql(category_query, conn)\n",
      "C:\\Users\\Admin\\AppData\\Local\\Temp\\ipykernel_25476\\3935477587.py:25: UserWarning: pandas only supports SQLAlchemy connectable (engine/connection) or database string URI or sqlite3 DBAPI2 connection. Other DBAPI2 objects are not tested. Please consider using SQLAlchemy.\n",
      "  brand_df = pd.read_sql(brand_query, conn)\n"
     ]
    }
   ],
   "source": [
    "# By category\n",
    "category_query = \"\"\"\n",
    "SELECT \n",
    "    c.category_name,\n",
    "    SUM(oi.quantity * oi.list_price * (1 - oi.discount)) AS total_revenue\n",
    "FROM order_items oi\n",
    "JOIN products p ON oi.product_id = p.product_id\n",
    "JOIN categories c ON p.category_id = c.category_id\n",
    "GROUP BY c.category_name\n",
    "ORDER BY total_revenue DESC;\n",
    "\"\"\"\n",
    "category_df = pd.read_sql(category_query, conn)\n",
    "print(category_df)\n",
    "# By brand\n",
    "brand_query = \"\"\"\n",
    "SELECT \n",
    "    b.brand_name,\n",
    "    SUM(oi.quantity * oi.list_price * (1 - oi.discount)) AS total_revenue\n",
    "FROM order_items oi\n",
    "JOIN products p ON oi.product_id = p.product_id\n",
    "JOIN brands b ON p.brand_id = b.brand_id\n",
    "GROUP BY b.brand_name\n",
    "ORDER BY total_revenue DESC;\n",
    "\"\"\"\n",
    "brand_df = pd.read_sql(brand_query, conn)\n",
    "print(brand_df)\n"
   ]
  },
  {
   "cell_type": "code",
   "execution_count": 13,
   "id": "fc94bfa0",
   "metadata": {},
   "outputs": [
    {
     "name": "stderr",
     "output_type": "stream",
     "text": [
      "C:\\Users\\Admin\\AppData\\Local\\Temp\\ipykernel_25476\\3504398774.py:10: UserWarning: pandas only supports SQLAlchemy connectable (engine/connection) or database string URI or sqlite3 DBAPI2 connection. Other DBAPI2 objects are not tested. Please consider using SQLAlchemy.\n",
      "  monthly_sales = pd.read_sql(query, conn)\n"
     ]
    },
    {
     "data": {
      "text/plain": [
       "<Axes: title={'center': 'Monthly Revenue Trend'}, xlabel='month'>"
      ]
     },
     "execution_count": 13,
     "metadata": {},
     "output_type": "execute_result"
    },
    {
     "data": {
      "image/png": "[encoded data removed]",
      "text/plain": [
       "<Figure size 640x480 with 1 Axes>"
      ]
     },
     "metadata": {},
     "output_type": "display_data"
    }
   ],
   "source": [
    "query = \"\"\"\n",
    "SELECT \n",
    "    DATE_TRUNC('month', order_date) AS month,\n",
    "    SUM(oi.quantity * oi.list_price * (1 - oi.discount)) AS total_revenue\n",
    "FROM order_items oi\n",
    "JOIN orders o ON oi.order_id = o.order_id\n",
    "GROUP BY month\n",
    "ORDER BY month;\n",
    "\"\"\"\n",
    "monthly_sales = pd.read_sql(query, conn)\n",
    "monthly_sales.plot(x='month', y='total_revenue', kind='line', title='Monthly Revenue Trend')\n"
   ]
  },
  {
   "cell_type": "code",
   "execution_count": 14,
   "id": "dcf99d7f",
   "metadata": {},
   "outputs": [
    {
     "name": "stderr",
     "output_type": "stream",
     "text": [
      "C:\\Users\\Admin\\AppData\\Local\\Temp\\ipykernel_25476\\3233395354.py:14: UserWarning: pandas only supports SQLAlchemy connectable (engine/connection) or database string URI or sqlite3 DBAPI2 connection. Other DBAPI2 objects are not tested. Please consider using SQLAlchemy.\n",
      "  pd.read_sql(query, conn)\n"
     ]
    },
    {
     "data": {
      "text/html": [
       "<div>\n",
       "<style scoped>\n",
       "    .dataframe tbody tr th:only-of-type {\n",
       "        vertical-align: middle;\n",
       "    }\n",
       "\n",
       "    .dataframe tbody tr th {\n",
       "        vertical-align: top;\n",
       "    }\n",
       "\n",
       "    .dataframe thead th {\n",
       "        text-align: right;\n",
       "    }\n",
       "</style>\n",
       "<table border=\"1\" class=\"dataframe\">\n",
       "  <thead>\n",
       "    <tr style=\"text-align: right;\">\n",
       "      <th></th>\n",
       "      <th>customer_id</th>\n",
       "      <th>customer_name</th>\n",
       "      <th>total_orders</th>\n",
       "      <th>total_spent</th>\n",
       "      <th>avg_order_value</th>\n",
       "    </tr>\n",
       "  </thead>\n",
       "  <tbody>\n",
       "    <tr>\n",
       "      <th>0</th>\n",
       "      <td>94</td>\n",
       "      <td>Sharyn Hopkins</td>\n",
       "      <td>2</td>\n",
       "      <td>34807.9392</td>\n",
       "      <td>3480.793920</td>\n",
       "    </tr>\n",
       "    <tr>\n",
       "      <th>1</th>\n",
       "      <td>10</td>\n",
       "      <td>Pamelia Newman</td>\n",
       "      <td>3</td>\n",
       "      <td>33634.2604</td>\n",
       "      <td>3057.660036</td>\n",
       "    </tr>\n",
       "    <tr>\n",
       "      <th>2</th>\n",
       "      <td>75</td>\n",
       "      <td>Abby Gamble</td>\n",
       "      <td>2</td>\n",
       "      <td>32803.0062</td>\n",
       "      <td>4686.143743</td>\n",
       "    </tr>\n",
       "    <tr>\n",
       "      <th>3</th>\n",
       "      <td>6</td>\n",
       "      <td>Lyndsey Bean</td>\n",
       "      <td>3</td>\n",
       "      <td>32675.0725</td>\n",
       "      <td>2970.461136</td>\n",
       "    </tr>\n",
       "    <tr>\n",
       "      <th>4</th>\n",
       "      <td>16</td>\n",
       "      <td>Emmitt Sanchez</td>\n",
       "      <td>3</td>\n",
       "      <td>31925.8857</td>\n",
       "      <td>2660.490475</td>\n",
       "    </tr>\n",
       "    <tr>\n",
       "      <th>...</th>\n",
       "      <td>...</td>\n",
       "      <td>...</td>\n",
       "      <td>...</td>\n",
       "      <td>...</td>\n",
       "      <td>...</td>\n",
       "    </tr>\n",
       "    <tr>\n",
       "      <th>1440</th>\n",
       "      <td>752</td>\n",
       "      <td>Lloyd Miranda</td>\n",
       "      <td>1</td>\n",
       "      <td>170.9910</td>\n",
       "      <td>170.991000</td>\n",
       "    </tr>\n",
       "    <tr>\n",
       "      <th>1441</th>\n",
       "      <td>177</td>\n",
       "      <td>Carissa Foreman</td>\n",
       "      <td>1</td>\n",
       "      <td>170.9910</td>\n",
       "      <td>170.991000</td>\n",
       "    </tr>\n",
       "    <tr>\n",
       "      <th>1442</th>\n",
       "      <td>1111</td>\n",
       "      <td>Caroline Jenkins</td>\n",
       "      <td>1</td>\n",
       "      <td>170.9910</td>\n",
       "      <td>170.991000</td>\n",
       "    </tr>\n",
       "    <tr>\n",
       "      <th>1443</th>\n",
       "      <td>718</td>\n",
       "      <td>Luciana Mcgee</td>\n",
       "      <td>1</td>\n",
       "      <td>167.9920</td>\n",
       "      <td>167.992000</td>\n",
       "    </tr>\n",
       "    <tr>\n",
       "      <th>1444</th>\n",
       "      <td>850</td>\n",
       "      <td>Stephanie Browning</td>\n",
       "      <td>1</td>\n",
       "      <td>104.4905</td>\n",
       "      <td>104.490500</td>\n",
       "    </tr>\n",
       "  </tbody>\n",
       "</table>\n",
       "<p>1445 rows × 5 columns</p>\n",
       "</div>"
      ],
      "text/plain": [
       "      customer_id       customer_name  total_orders  total_spent  \\\n",
       "0              94      Sharyn Hopkins             2   34807.9392   \n",
       "1              10      Pamelia Newman             3   33634.2604   \n",
       "2              75         Abby Gamble             2   32803.0062   \n",
       "3               6        Lyndsey Bean             3   32675.0725   \n",
       "4              16      Emmitt Sanchez             3   31925.8857   \n",
       "...           ...                 ...           ...          ...   \n",
       "1440          752       Lloyd Miranda             1     170.9910   \n",
       "1441          177     Carissa Foreman             1     170.9910   \n",
       "1442         1111    Caroline Jenkins             1     170.9910   \n",
       "1443          718       Luciana Mcgee             1     167.9920   \n",
       "1444          850  Stephanie Browning             1     104.4905   \n",
       "\n",
       "      avg_order_value  \n",
       "0         3480.793920  \n",
       "1         3057.660036  \n",
       "2         4686.143743  \n",
       "3         2970.461136  \n",
       "4         2660.490475  \n",
       "...               ...  \n",
       "1440       170.991000  \n",
       "1441       170.991000  \n",
       "1442       170.991000  \n",
       "1443       167.992000  \n",
       "1444       104.490500  \n",
       "\n",
       "[1445 rows x 5 columns]"
      ]
     },
     "execution_count": 14,
     "metadata": {},
     "output_type": "execute_result"
    }
   ],
   "source": [
    "query = \"\"\"\n",
    "SELECT \n",
    "    c.customer_id,\n",
    "    c.first_name || ' ' || c.last_name AS customer_name,\n",
    "    COUNT(DISTINCT o.order_id) AS total_orders,\n",
    "    SUM(oi.quantity * oi.list_price * (1 - oi.discount)) AS total_spent,\n",
    "    AVG(oi.quantity * oi.list_price * (1 - oi.discount)) AS avg_order_value\n",
    "FROM order_items oi\n",
    "JOIN orders o ON oi.order_id = o.order_id\n",
    "JOIN customers c ON o.customer_id = c.customer_id\n",
    "GROUP BY c.customer_id, customer_name\n",
    "ORDER BY total_spent DESC;\n",
    "\"\"\"\n",
    "pd.read_sql(query, conn)\n"
   ]
  },
  {
   "cell_type": "markdown",
   "id": "718d23b5",
   "metadata": {},
   "source": [
    "Customer behavior"
   ]
  },
  {
   "cell_type": "code",
   "execution_count": null,
   "id": "cac78b0e",
   "metadata": {},
   "outputs": [],
   "source": [
    "query = \"\"\"\n",
    "SELECT \n",
    "    c.customer_id,\n",
    "    c.first_name || ' ' || c.last_name AS customer_name,\n",
    "    COUNT(DISTINCT o.order_id) AS total_orders,\n",
    "    SUM(oi.quantity * oi.list_price * (1 - oi.discount)) AS total_spent\n",
    "FROM customers c\n",
    "JOIN orders o ON c.customer_id = o.customer_id\n",
    "JOIN order_items oi ON o.order_id = oi.order_id\n",
    "GROUP BY c.customer_id, customer_name\n",
    "ORDER BY total_spent DESC\n",
    "LIMIT 10;\n",
    "\"\"\"\n",
    "df_top_customers = pd.read_sql_query(query, conn)\n",
    "df_top_customers\n"
   ]
  },
  {
   "cell_type": "code",
   "execution_count": null,
   "id": "e6a136e2",
   "metadata": {},
   "outputs": [],
   "source": [
    "query = \"\"\"\n",
    "SELECT \n",
    "    c.customer_id,\n",
    "    c.first_name || ' ' || c.last_name AS customer_name,\n",
    "    COUNT(DISTINCT o.order_id) AS total_orders,\n",
    "    SUM(oi.quantity * oi.list_price * (1 - oi.discount)) AS total_spent,\n",
    "    ROUND(SUM(oi.quantity * oi.list_price * (1 - oi.discount)) / COUNT(DISTINCT o.order_id), 2) AS avg_order_value\n",
    "FROM customers c\n",
    "JOIN orders o ON c.customer_id = o.customer_id\n",
    "JOIN order_items oi ON o.order_id = oi.order_id\n",
    "GROUP BY c.customer_id, customer_name\n",
    "ORDER BY avg_order_value DESC\n",
    "LIMIT 10;\n",
    "\"\"\"\n",
    "df_avg_order_value = pd.read_sql_query(query, conn)\n",
    "df_avg_order_value\n"
   ]
  },
  {
   "cell_type": "code",
   "execution_count": null,
   "id": "e1154d75",
   "metadata": {},
   "outputs": [],
   "source": [
    "query = \"\"\"\n",
    "SELECT \n",
    "    c.customer_id,\n",
    "    c.first_name || ' ' || c.last_name AS customer_name,\n",
    "    COUNT(DISTINCT o.order_id) AS order_count\n",
    "FROM customers c\n",
    "JOIN orders o ON c.customer_id = o.customer_id\n",
    "GROUP BY c.customer_id, customer_name\n",
    "ORDER BY order_count DESC\n",
    "LIMIT 10;\n",
    "\"\"\"\n",
    "df_most_orders = pd.read_sql_query(query, conn)\n",
    "df_most_orders\n"
   ]
  },
  {
   "cell_type": "code",
   "execution_count": 18,
   "id": "f31e3c53",
   "metadata": {},
   "outputs": [
    {
     "name": "stderr",
     "output_type": "stream",
     "text": [
      "C:\\Users\\Admin\\AppData\\Local\\Temp\\ipykernel_25476\\2662525549.py:10: UserWarning: pandas only supports SQLAlchemy connectable (engine/connection) or database string URI or sqlite3 DBAPI2 connection. Other DBAPI2 objects are not tested. Please consider using SQLAlchemy.\n",
      "  df_states_activity = pd.read_sql_query(query, conn)\n",
      "C:\\Users\\Admin\\AppData\\Local\\Temp\\ipykernel_25476\\2662525549.py:14: FutureWarning: \n",
      "\n",
      "Passing `palette` without assigning `hue` is deprecated and will be removed in v0.14.0. Assign the `x` variable to `hue` and set `legend=False` for the same effect.\n",
      "\n",
      "  sns.barplot(data=df_states_activity, x='state', y='order_count', palette='coolwarm')\n"
     ]
    },
    {
     "data": {
      "image/png": "[encoded data removed]",
      "text/plain": [
       "<Figure size 1200x600 with 1 Axes>"
      ]
     },
     "metadata": {},
     "output_type": "display_data"
    }
   ],
   "source": [
    "query = \"\"\"\n",
    "SELECT \n",
    "    c.state,\n",
    "    COUNT(DISTINCT o.order_id) AS order_count\n",
    "FROM customers c\n",
    "JOIN orders o ON c.customer_id = o.customer_id\n",
    "GROUP BY c.state\n",
    "ORDER BY order_count DESC;\n",
    "\"\"\"\n",
    "df_states_activity = pd.read_sql_query(query, conn)\n",
    "df_states_activity\n",
    "# visualization\n",
    "plt.figure(figsize=(12,6))\n",
    "sns.barplot(data=df_states_activity, x='state', y='order_count', palette='coolwarm')\n",
    "plt.title('Order Volume by Customer State')\n",
    "plt.xlabel('State')\n",
    "plt.ylabel('Number of Orders')\n",
    "plt.xticks(rotation=45)\n",
    "plt.tight_layout()\n",
    "plt.show()\n"
   ]
  },
  {
   "cell_type": "code",
   "execution_count": null,
   "id": "9d95773e",
   "metadata": {},
   "outputs": [],
   "source": [
    "query = \"\"\"\n",
    "SELECT \n",
    "    CASE \n",
    "        WHEN order_count = 1 THEN 'One-time'\n",
    "        ELSE 'Repeat'\n",
    "    END AS customer_type,\n",
    "    COUNT(*) AS customer_count\n",
    "FROM (\n",
    "    SELECT \n",
    "        c.customer_id,\n",
    "        COUNT(DISTINCT o.order_id) AS order_count\n",
    "    FROM customers c\n",
    "    JOIN orders o ON c.customer_id = o.customer_id\n",
    "    GROUP BY c.customer_id\n",
    ") sub\n",
    "GROUP BY customer_type;\n",
    "\"\"\"\n",
    "df_repeat_customers = pd.read_sql_query(query, conn)\n",
    "df_repeat_customers\n"
   ]
  },
  {
   "cell_type": "markdown",
   "id": "01fd061e",
   "metadata": {},
   "source": [
    "order management"
   ]
  },
  {
   "cell_type": "code",
   "execution_count": 20,
   "id": "9e0fc94d",
   "metadata": {},
   "outputs": [
    {
     "name": "stderr",
     "output_type": "stream",
     "text": [
      "C:\\Users\\Admin\\AppData\\Local\\Temp\\ipykernel_25476\\3068256320.py:9: UserWarning: pandas only supports SQLAlchemy connectable (engine/connection) or database string URI or sqlite3 DBAPI2 connection. Other DBAPI2 objects are not tested. Please consider using SQLAlchemy.\n",
      "  df_orders_per_month = pd.read_sql_query(query, conn)\n"
     ]
    },
    {
     "data": {
      "image/png": "[encoded data removed]",
      "text/plain": [
       "<Figure size 1200x600 with 1 Axes>"
      ]
     },
     "metadata": {},
     "output_type": "display_data"
    }
   ],
   "source": [
    "query = \"\"\"\n",
    "SELECT \n",
    "    DATE_TRUNC('month', order_date) AS month,\n",
    "    COUNT(*) AS order_count\n",
    "FROM orders\n",
    "GROUP BY month\n",
    "ORDER BY month;\n",
    "\"\"\"\n",
    "df_orders_per_month = pd.read_sql_query(query, conn)\n",
    "df_orders_per_month\n",
    "# visualization\n",
    "plt.figure(figsize=(12,6))\n",
    "plt.plot(df_orders_per_month['month'], df_orders_per_month['order_count'], marker='o', color='teal')\n",
    "plt.title('Orders Placed Per Month')\n",
    "plt.xlabel('Month')\n",
    "plt.ylabel('Number of Orders')\n",
    "plt.grid(True)\n",
    "plt.tight_layout()\n",
    "plt.show()\n"
   ]
  },
  {
   "cell_type": "code",
   "execution_count": null,
   "id": "7b0ba847",
   "metadata": {},
   "outputs": [],
   "source": [
    "query = \"\"\"\n",
    "SELECT \n",
    "    order_status,\n",
    "    COUNT(*) AS count\n",
    "FROM orders\n",
    "GROUP BY order_status\n",
    "ORDER BY count DESC;\n",
    "\"\"\"\n",
    "df_status_breakdown = pd.read_sql_query(query, conn)\n",
    "df_status_breakdown\n"
   ]
  },
  {
   "cell_type": "code",
   "execution_count": null,
   "id": "3c5dfd57",
   "metadata": {},
   "outputs": [],
   "source": [
    "query = \"\"\"\n",
    "SELECT \n",
    "    AVG(shipped_date - order_date) AS avg_shipping_days\n",
    "FROM orders\n",
    "WHERE shipped_date IS NOT NULL;\n",
    "\"\"\"\n",
    "df_avg_shipping = pd.read_sql_query(query, conn)\n",
    "df_avg_shipping\n"
   ]
  },
  {
   "cell_type": "code",
   "execution_count": null,
   "id": "25a44858",
   "metadata": {},
   "outputs": [],
   "source": [
    "query = \"\"\"\n",
    "SELECT \n",
    "    st.store_id,\n",
    "    st.store_name,\n",
    "    COUNT(o.order_id) AS total_orders\n",
    "FROM stores st\n",
    "JOIN orders o ON st.store_id = o.store_id\n",
    "GROUP BY st.store_id, st.store_name\n",
    "ORDER BY total_orders DESC;\n",
    "\"\"\"\n",
    "df_top_stores = pd.read_sql_query(query, conn)\n",
    "df_top_stores\n"
   ]
  },
  {
   "cell_type": "markdown",
   "id": "70af0973",
   "metadata": {},
   "source": [
    "staff performance"
   ]
  },
  {
   "cell_type": "markdown",
   "id": "1216a665",
   "metadata": {},
   "source": [
    "staff order process"
   ]
  },
  {
   "cell_type": "code",
   "execution_count": null,
   "id": "4f07107e",
   "metadata": {},
   "outputs": [],
   "source": [
    "query = \"\"\"\n",
    "SELECT \n",
    "    s.staff_id,\n",
    "    s.first_name || ' ' || s.last_name AS staff_name,\n",
    "    COUNT(o.order_id) AS total_orders\n",
    "FROM staffs s\n",
    "JOIN orders o ON s.staff_id = o.staff_id\n",
    "GROUP BY s.staff_id, staff_name\n",
    "ORDER BY total_orders DESC\n",
    "LIMIT 10;\n",
    "\"\"\"\n",
    "df_top_staff = pd.read_sql_query(query, conn)\n",
    "df_top_staff\n"
   ]
  },
  {
   "cell_type": "code",
   "execution_count": null,
   "id": "1278ab7e",
   "metadata": {},
   "outputs": [],
   "source": [
    "query = \"\"\"\n",
    "SELECT \n",
    "    st.store_id,\n",
    "    st.store_name,\n",
    "    COUNT(sf.staff_id) AS staff_count\n",
    "FROM stores st\n",
    "LEFT JOIN staffs sf ON st.store_id = sf.store_id\n",
    "GROUP BY st.store_id, st.store_name\n",
    "ORDER BY staff_count DESC;\n",
    "\"\"\"\n",
    "df_staff_per_store = pd.read_sql_query(query, conn)\n",
    "df_staff_per_store\n",
    "# visualization\n",
    "plt.figure(figsize=(10,6))\n",
    "plt.bar(df_staff_per_store['store_name'], df_staff_per_store['staff_count'], color='orange')\n",
    "plt.title('Number of Staff per Store')\n",
    "plt.xlabel('Store')\n",
    "plt.ylabel('Staff Count')\n",
    "plt.xticks(rotation=45)\n",
    "plt.tight_layout()\n",
    "plt.show()\n"
   ]
  },
  {
   "cell_type": "code",
   "execution_count": null,
   "id": "c42ddc29",
   "metadata": {},
   "outputs": [
    {
     "name": "stderr",
     "output_type": "stream",
     "text": [
      "C:\\Users\\Admin\\AppData\\Local\\Temp\\ipykernel_25476\\538886138.py:9: UserWarning: pandas only supports SQLAlchemy connectable (engine/connection) or database string URI or sqlite3 DBAPI2 connection. Other DBAPI2 objects are not tested. Please consider using SQLAlchemy.\n",
      "  df_active_status = pd.read_sql_query(query, conn)\n"
     ]
    },
    {
     "data": {
      "text/html": [
       "<div>\n",
       "<style scoped>\n",
       "    .dataframe tbody tr th:only-of-type {\n",
       "        vertical-align: middle;\n",
       "    }\n",
       "\n",
       "    .dataframe tbody tr th {\n",
       "        vertical-align: top;\n",
       "    }\n",
       "\n",
       "    .dataframe thead th {\n",
       "        text-align: right;\n",
       "    }\n",
       "</style>\n",
       "<table border=\"1\" class=\"dataframe\">\n",
       "  <thead>\n",
       "    <tr style=\"text-align: right;\">\n",
       "      <th></th>\n",
       "      <th>active</th>\n",
       "      <th>staff_count</th>\n",
       "    </tr>\n",
       "  </thead>\n",
       "  <tbody>\n",
       "    <tr>\n",
       "      <th>0</th>\n",
       "      <td>True</td>\n",
       "      <td>10</td>\n",
       "    </tr>\n",
       "  </tbody>\n",
       "</table>\n",
       "</div>"
      ],
      "text/plain": [
       "   active  staff_count\n",
       "0    True           10"
      ]
     },
     "execution_count": 25,
     "metadata": {},
     "output_type": "execute_result"
    }
   ],
   "source": [
    "query = \"\"\"\n",
    "SELECT \n",
    "    active,\n",
    "    COUNT(*) AS staff_count\n",
    "FROM staffs\n",
    "GROUP BY active;\n",
    "\"\"\"\n",
    "\n",
    "df_active_status = pd.read_sql_query(query, conn)\n",
    "df_active_status\n",
    "df_active_status['status'] = df_active_status['active'].map({True: 'Active', False: 'Inactive'})\n",
    "df_active_status\n"
   ]
  },
  {
   "cell_type": "markdown",
   "id": "320ed7e3",
   "metadata": {},
   "source": [
    "📦 Inventory Insights"
   ]
  },
  {
   "cell_type": "code",
   "execution_count": null,
   "id": "89caa1f8",
   "metadata": {},
   "outputs": [],
   "source": [
    "query = \"\"\"\n",
    "SELECT \n",
    "    p.product_id,\n",
    "    p.product_name,\n",
    "    SUM(s.quantity) AS total_stock\n",
    "FROM products p\n",
    "JOIN stocks s ON p.product_id = s.product_id\n",
    "GROUP BY p.product_id, p.product_name\n",
    "ORDER BY total_stock DESC;\n",
    "\"\"\"\n",
    "df_total_stock = pd.read_sql_query(query, conn)\n",
    "df_total_stock.head()\n"
   ]
  },
  {
   "cell_type": "code",
   "execution_count": null,
   "id": "3c553e76",
   "metadata": {},
   "outputs": [],
   "source": [
    "query = \"\"\"\n",
    "SELECT \n",
    "    s.product_id,\n",
    "    p.product_name,\n",
    "    s.store_id,\n",
    "    st.store_name,\n",
    "    s.quantity\n",
    "FROM stocks s\n",
    "JOIN (\n",
    "    SELECT product_id, MAX(quantity) AS max_qty\n",
    "    FROM stocks\n",
    "    GROUP BY product_id\n",
    ") max_stock ON s.product_id = max_stock.product_id AND s.quantity = max_stock.max_qty\n",
    "JOIN products p ON s.product_id = p.product_id\n",
    "JOIN stores st ON s.store_id = st.store_id\n",
    "ORDER BY s.product_id;\n",
    "\"\"\"\n",
    "df_max_per_product = pd.read_sql_query(query, conn)\n",
    "df_max_per_product.head()\n"
   ]
  },
  {
   "cell_type": "code",
   "execution_count": null,
   "id": "6aa95805",
   "metadata": {},
   "outputs": [],
   "source": [
    "query = \"\"\"\n",
    "SELECT \n",
    "    p.product_id,\n",
    "    p.product_name\n",
    "FROM products p\n",
    "LEFT JOIN stocks s ON p.product_id = s.product_id\n",
    "GROUP BY p.product_id, p.product_name\n",
    "HAVING COALESCE(SUM(s.quantity), 0) = 0;\n",
    "\"\"\"\n",
    "df_out_of_stock = pd.read_sql_query(query, conn)\n",
    "df_out_of_stock\n"
   ]
  },
  {
   "cell_type": "code",
   "execution_count": null,
   "id": "75ec97ce",
   "metadata": {},
   "outputs": [],
   "source": [
    "query = \"\"\"\n",
    "SELECT \n",
    "    p.product_id,\n",
    "    p.product_name,\n",
    "    SUM(s.quantity) AS total_stock\n",
    "FROM products p\n",
    "JOIN stocks s ON p.product_id = s.product_id\n",
    "GROUP BY p.product_id, p.product_name\n",
    "HAVING SUM(s.quantity) < 10\n",
    "ORDER BY total_stock;\n",
    "\"\"\"\n",
    "df_low_inventory = pd.read_sql_query(query, conn)\n",
    "df_low_inventory\n"
   ]
  },
  {
   "cell_type": "code",
   "execution_count": null,
   "id": "a9042811",
   "metadata": {},
   "outputs": [],
   "source": [
    "query = \"\"\"\n",
    "SELECT \n",
    "    st.store_id,\n",
    "    st.store_name,\n",
    "    ROUND(SUM(s.quantity * p.list_price), 2) AS inventory_value\n",
    "FROM stocks s\n",
    "JOIN stores st ON s.store_id = st.store_id\n",
    "JOIN products p ON s.product_id = p.product_id\n",
    "GROUP BY st.store_id, st.store_name\n",
    "ORDER BY inventory_value DESC;\n",
    "\"\"\"\n",
    "df_inventory_value = pd.read_sql_query(query, conn)\n",
    "df_inventory_value\n",
    "# visualization\n",
    "plt.figure(figsize=(10,6))\n",
    "plt.bar(df_inventory_value['store_name'], df_inventory_value['inventory_value'], color='slateblue')\n",
    "plt.title('Inventory Value per Store')\n",
    "plt.xlabel('Store')\n",
    "plt.ylabel('Inventory Value')\n",
    "plt.xticks(rotation=45)\n",
    "plt.tight_layout()\n",
    "plt.show()\n"
   ]
  },
  {
   "cell_type": "markdown",
   "id": "999e20b8",
   "metadata": {},
   "source": [
    "📦 Product Insights"
   ]
  },
  {
   "cell_type": "code",
   "execution_count": 31,
   "id": "43a3e4c8",
   "metadata": {},
   "outputs": [
    {
     "name": "stderr",
     "output_type": "stream",
     "text": [
      "C:\\Users\\Admin\\AppData\\Local\\Temp\\ipykernel_25476\\1648786499.py:9: UserWarning: pandas only supports SQLAlchemy connectable (engine/connection) or database string URI or sqlite3 DBAPI2 connection. Other DBAPI2 objects are not tested. Please consider using SQLAlchemy.\n",
      "  df_unordered_products = pd.read_sql_query(query, conn)\n"
     ]
    },
    {
     "data": {
      "text/html": [
       "<div>\n",
       "<style scoped>\n",
       "    .dataframe tbody tr th:only-of-type {\n",
       "        vertical-align: middle;\n",
       "    }\n",
       "\n",
       "    .dataframe tbody tr th {\n",
       "        vertical-align: top;\n",
       "    }\n",
       "\n",
       "    .dataframe thead th {\n",
       "        text-align: right;\n",
       "    }\n",
       "</style>\n",
       "<table border=\"1\" class=\"dataframe\">\n",
       "  <thead>\n",
       "    <tr style=\"text-align: right;\">\n",
       "      <th></th>\n",
       "      <th>product_id</th>\n",
       "      <th>product_name</th>\n",
       "    </tr>\n",
       "  </thead>\n",
       "  <tbody>\n",
       "    <tr>\n",
       "      <th>0</th>\n",
       "      <td>1</td>\n",
       "      <td>Trek 820 - 2016</td>\n",
       "    </tr>\n",
       "    <tr>\n",
       "      <th>1</th>\n",
       "      <td>121</td>\n",
       "      <td>Surly Krampus Frameset - 2018</td>\n",
       "    </tr>\n",
       "    <tr>\n",
       "      <th>2</th>\n",
       "      <td>125</td>\n",
       "      <td>Trek Kids' Dual Sport - 2018</td>\n",
       "    </tr>\n",
       "    <tr>\n",
       "      <th>3</th>\n",
       "      <td>154</td>\n",
       "      <td>Trek Domane SLR 6 Disc Women's - 2018</td>\n",
       "    </tr>\n",
       "    <tr>\n",
       "      <th>4</th>\n",
       "      <td>195</td>\n",
       "      <td>Electra Townie Go! 8i Ladies' - 2018</td>\n",
       "    </tr>\n",
       "    <tr>\n",
       "      <th>5</th>\n",
       "      <td>267</td>\n",
       "      <td>Trek Precaliber 12 Girl's - 2018</td>\n",
       "    </tr>\n",
       "    <tr>\n",
       "      <th>6</th>\n",
       "      <td>284</td>\n",
       "      <td>Electra Savannah 1 (20-inch) - Girl's - 2018</td>\n",
       "    </tr>\n",
       "    <tr>\n",
       "      <th>7</th>\n",
       "      <td>291</td>\n",
       "      <td>Electra Sweet Ride 1 (20-inch) - Girl's - 2018</td>\n",
       "    </tr>\n",
       "    <tr>\n",
       "      <th>8</th>\n",
       "      <td>316</td>\n",
       "      <td>Trek Checkpoint ALR 4 Women's - 2019</td>\n",
       "    </tr>\n",
       "    <tr>\n",
       "      <th>9</th>\n",
       "      <td>317</td>\n",
       "      <td>Trek Checkpoint ALR 5 - 2019</td>\n",
       "    </tr>\n",
       "    <tr>\n",
       "      <th>10</th>\n",
       "      <td>318</td>\n",
       "      <td>Trek Checkpoint ALR 5 Women's - 2019</td>\n",
       "    </tr>\n",
       "    <tr>\n",
       "      <th>11</th>\n",
       "      <td>319</td>\n",
       "      <td>Trek Checkpoint SL 5 Women's - 2019</td>\n",
       "    </tr>\n",
       "    <tr>\n",
       "      <th>12</th>\n",
       "      <td>320</td>\n",
       "      <td>Trek Checkpoint SL 6 - 2019</td>\n",
       "    </tr>\n",
       "    <tr>\n",
       "      <th>13</th>\n",
       "      <td>321</td>\n",
       "      <td>Trek Checkpoint ALR Frameset - 2019</td>\n",
       "    </tr>\n",
       "  </tbody>\n",
       "</table>\n",
       "</div>"
      ],
      "text/plain": [
       "    product_id                                    product_name\n",
       "0            1                                 Trek 820 - 2016\n",
       "1          121                   Surly Krampus Frameset - 2018\n",
       "2          125                    Trek Kids' Dual Sport - 2018\n",
       "3          154           Trek Domane SLR 6 Disc Women's - 2018\n",
       "4          195            Electra Townie Go! 8i Ladies' - 2018\n",
       "5          267                Trek Precaliber 12 Girl's - 2018\n",
       "6          284    Electra Savannah 1 (20-inch) - Girl's - 2018\n",
       "7          291  Electra Sweet Ride 1 (20-inch) - Girl's - 2018\n",
       "8          316            Trek Checkpoint ALR 4 Women's - 2019\n",
       "9          317                    Trek Checkpoint ALR 5 - 2019\n",
       "10         318            Trek Checkpoint ALR 5 Women's - 2019\n",
       "11         319             Trek Checkpoint SL 5 Women's - 2019\n",
       "12         320                     Trek Checkpoint SL 6 - 2019\n",
       "13         321             Trek Checkpoint ALR Frameset - 2019"
      ]
     },
     "execution_count": 31,
     "metadata": {},
     "output_type": "execute_result"
    }
   ],
   "source": [
    "query = \"\"\"\n",
    "SELECT \n",
    "    p.product_id,\n",
    "    p.product_name\n",
    "FROM products p\n",
    "LEFT JOIN order_items oi ON p.product_id = oi.product_id\n",
    "WHERE oi.product_id IS NULL;\n",
    "\"\"\"\n",
    "df_unordered_products = pd.read_sql_query(query, conn)\n",
    "df_unordered_products\n"
   ]
  }
 ],
 "metadata": {
  "kernelspec": {
   "display_name": "Python 3",
   "language": "python",
   "name": "python3"
  },
  "language_info": {
   "codemirror_mode": {
    "name": "ipython",
    "version": 3
   },
   "file_extension": ".py",
   "mimetype": "text/x-python",
   "name": "python",
   "nbconvert_exporter": "python",
   "pygments_lexer": "ipython3",
   "version": "3.13.3"
  }
 },
 "nbformat": 4,
 "nbformat_minor": 5
}
