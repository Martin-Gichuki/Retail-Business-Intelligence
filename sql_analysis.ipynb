{
 "cells": [
  {
   "cell_type": "markdown",
   "id": "7799f757",
   "metadata": {},
   "source": [
    "***🏪 Retail Business Intelligence: BikeStores Database Analysis***\n",
    "\n",
    "***Project Description***\n",
    "\n",
    "In today's data-driven retail environment, deriving actionable insights from sales, customer, and inventory data is essential for making informed business decisions. This project, titled is a Comprehensive Analysis of BikeStores Data,\" explores transactional and operational data from a multi-store bicycle retailer to uncover trends in customer behavior, sales performance, staff efficiency, and inventory management.\n",
    "\n",
    "***Objective***\n",
    "The primary objective of this project is to use data analytics and machine learning techniques to:\n",
    "\n",
    "Understand sales and revenue patterns over time and across stores\n",
    "\n",
    "Profile customer behavior and segmentation\n",
    "\n",
    "Monitor order processing and fulfillment trends\n",
    "\n",
    "Evaluate staff performance and distribution\n",
    "\n",
    "Track inventory health and optimize stock levels\n",
    "\n",
    "Identify underperforming or high-potential products and stores\n",
    "\n",
    "Forecast future sales and support predictive decision-making\n",
    "\n",
    "***Data Sources***\n",
    "This project utilizes the BikeStores sample database, composed of multiple interconnected tables, each representing a core business entity:\n",
    "\n",
    "orders, order_items: Contain transaction details including sales, discounts, dates, and items purchased.\n",
    "\n",
    "customers: Information about customer demographics and contact details.\n",
    "\n",
    "products, brands, categories: Represent the product catalog and brand classification.\n",
    "\n",
    "stores: Metadata about different store branches and their locations.\n",
    "\n",
    "staffs: Details on staff members, their activity, and store assignments.\n",
    "\n",
    "stocks: Current inventory levels for products across stores."
   ]
  },
  {
   "cell_type": "code",
   "execution_count": 32,
   "id": "00bb6486",
   "metadata": {},
   "outputs": [],
   "source": [
    "import psycopg2\n",
    "import pandas as pd\n",
    "import numpy as np\n",
    "import matplotlib.pyplot as plt \n",
    "import seaborn as sns"
   ]
  },
  {
   "cell_type": "code",
   "execution_count": 33,
   "id": "472d62bb",
   "metadata": {},
   "outputs": [],
   "source": [
    "db_params = {\n",
    "    \"host\": \"localhost\",  # or \"127.0.0.1\" if your database is on the local machine\n",
    "    \"port\": 5432,         # Default PostgreSQL port\n",
    "    \"database\": \"Bike_stores\",\n",
    "    \"user\": \"postgres\",\n",
    "    \"password\": \"4823Em15@\"\n",
    "}\n",
    "conn = psycopg2.connect(**db_params)"
   ]
  },
  {
   "cell_type": "markdown",
   "id": "9d0d35ac",
   "metadata": {},
   "source": [
    "***🛍️ Sales & Revenue Insights***\n",
    "\n",
    "This section focuses on analyzing sales trends and revenue generation across time, stores, and products.\n",
    "\n",
    "Understanding revenue patterns helps the business identify peak sales periods, top-performing stores, and high-value products. \n",
    "\n",
    "These insights are crucial for revenue forecasting, inventory planning, and strategic decision-making."
   ]
  },
  {
   "cell_type": "markdown",
   "id": "5181ba50",
   "metadata": {},
   "source": [
    "***What is the total revenue generated?***"
   ]
  },
  {
   "cell_type": "code",
   "execution_count": 34,
   "id": "8f45ec75",
   "metadata": {},
   "outputs": [
    {
     "name": "stderr",
     "output_type": "stream",
     "text": [
      "C:\\Users\\Admin\\AppData\\Local\\Temp\\ipykernel_25476\\636704395.py:6: UserWarning: pandas only supports SQLAlchemy connectable (engine/connection) or database string URI or sqlite3 DBAPI2 connection. Other DBAPI2 objects are not tested. Please consider using SQLAlchemy.\n",
      "  pd.read_sql(query, conn)\n"
     ]
    },
    {
     "data": {
      "text/html": [
       "<div>\n",
       "<style scoped>\n",
       "    .dataframe tbody tr th:only-of-type {\n",
       "        vertical-align: middle;\n",
       "    }\n",
       "\n",
       "    .dataframe tbody tr th {\n",
       "        vertical-align: top;\n",
       "    }\n",
       "\n",
       "    .dataframe thead th {\n",
       "        text-align: right;\n",
       "    }\n",
       "</style>\n",
       "<table border=\"1\" class=\"dataframe\">\n",
       "  <thead>\n",
       "    <tr style=\"text-align: right;\">\n",
       "      <th></th>\n",
       "      <th>total_revenue</th>\n",
       "    </tr>\n",
       "  </thead>\n",
       "  <tbody>\n",
       "    <tr>\n",
       "      <th>0</th>\n",
       "      <td>7.689117e+06</td>\n",
       "    </tr>\n",
       "  </tbody>\n",
       "</table>\n",
       "</div>"
      ],
      "text/plain": [
       "   total_revenue\n",
       "0   7.689117e+06"
      ]
     },
     "execution_count": 34,
     "metadata": {},
     "output_type": "execute_result"
    }
   ],
   "source": [
    "query = \"\"\"\n",
    "SELECT \n",
    "    SUM(quantity * list_price * (1 - discount)) AS total_revenue\n",
    "FROM order_items;\n",
    "\"\"\"\n",
    "pd.read_sql(query, conn)\n"
   ]
  },
  {
   "cell_type": "markdown",
   "id": "67f764bf",
   "metadata": {},
   "source": [
    "*** What is the revenue per store?***"
   ]
  },
  {
   "cell_type": "code",
   "execution_count": 35,
   "id": "27b84709",
   "metadata": {},
   "outputs": [
    {
     "name": "stderr",
     "output_type": "stream",
     "text": [
      "C:\\Users\\Admin\\AppData\\Local\\Temp\\ipykernel_25476\\3783673814.py:11: UserWarning: pandas only supports SQLAlchemy connectable (engine/connection) or database string URI or sqlite3 DBAPI2 connection. Other DBAPI2 objects are not tested. Please consider using SQLAlchemy.\n",
      "  pd.read_sql(query, conn)\n"
     ]
    },
    {
     "data": {
      "text/html": [
       "<div>\n",
       "<style scoped>\n",
       "    .dataframe tbody tr th:only-of-type {\n",
       "        vertical-align: middle;\n",
       "    }\n",
       "\n",
       "    .dataframe tbody tr th {\n",
       "        vertical-align: top;\n",
       "    }\n",
       "\n",
       "    .dataframe thead th {\n",
       "        text-align: right;\n",
       "    }\n",
       "</style>\n",
       "<table border=\"1\" class=\"dataframe\">\n",
       "  <thead>\n",
       "    <tr style=\"text-align: right;\">\n",
       "      <th></th>\n",
       "      <th>store_name</th>\n",
       "      <th>revenue</th>\n",
       "    </tr>\n",
       "  </thead>\n",
       "  <tbody>\n",
       "    <tr>\n",
       "      <th>0</th>\n",
       "      <td>Baldwin Bikes</td>\n",
       "      <td>5.215751e+06</td>\n",
       "    </tr>\n",
       "    <tr>\n",
       "      <th>1</th>\n",
       "      <td>Santa Cruz Bikes</td>\n",
       "      <td>1.605823e+06</td>\n",
       "    </tr>\n",
       "    <tr>\n",
       "      <th>2</th>\n",
       "      <td>Rowlett Bikes</td>\n",
       "      <td>8.675422e+05</td>\n",
       "    </tr>\n",
       "  </tbody>\n",
       "</table>\n",
       "</div>"
      ],
      "text/plain": [
       "         store_name       revenue\n",
       "0     Baldwin Bikes  5.215751e+06\n",
       "1  Santa Cruz Bikes  1.605823e+06\n",
       "2     Rowlett Bikes  8.675422e+05"
      ]
     },
     "execution_count": 35,
     "metadata": {},
     "output_type": "execute_result"
    }
   ],
   "source": [
    "query = \"\"\"\n",
    "SELECT \n",
    "    s.store_name,\n",
    "    SUM(oi.quantity * oi.list_price * (1 - oi.discount)) AS revenue\n",
    "FROM order_items oi\n",
    "JOIN orders o ON oi.order_id = o.order_id\n",
    "JOIN stores s ON o.store_id = s.store_id\n",
    "GROUP BY s.store_name\n",
    "ORDER BY revenue DESC;\n",
    "\"\"\"\n",
    "pd.read_sql(query, conn)\n"
   ]
  },
  {
   "cell_type": "markdown",
   "id": "d9b27e0d",
   "metadata": {},
   "source": [
    "***What are the top-selling products by quantity and revenue?***"
   ]
  },
  {
   "cell_type": "code",
   "execution_count": 36,
   "id": "d92f7df6",
   "metadata": {},
   "outputs": [
    {
     "name": "stderr",
     "output_type": "stream",
     "text": [
      "C:\\Users\\Admin\\AppData\\Local\\Temp\\ipykernel_25476\\2461237303.py:12: UserWarning: pandas only supports SQLAlchemy connectable (engine/connection) or database string URI or sqlite3 DBAPI2 connection. Other DBAPI2 objects are not tested. Please consider using SQLAlchemy.\n",
      "  pd.read_sql(query, conn)\n"
     ]
    },
    {
     "data": {
      "text/html": [
       "<div>\n",
       "<style scoped>\n",
       "    .dataframe tbody tr th:only-of-type {\n",
       "        vertical-align: middle;\n",
       "    }\n",
       "\n",
       "    .dataframe tbody tr th {\n",
       "        vertical-align: top;\n",
       "    }\n",
       "\n",
       "    .dataframe thead th {\n",
       "        text-align: right;\n",
       "    }\n",
       "</style>\n",
       "<table border=\"1\" class=\"dataframe\">\n",
       "  <thead>\n",
       "    <tr style=\"text-align: right;\">\n",
       "      <th></th>\n",
       "      <th>product_name</th>\n",
       "      <th>total_quantity</th>\n",
       "      <th>total_revenue</th>\n",
       "    </tr>\n",
       "  </thead>\n",
       "  <tbody>\n",
       "    <tr>\n",
       "      <th>0</th>\n",
       "      <td>Trek Slash 8 27.5 - 2016</td>\n",
       "      <td>154</td>\n",
       "      <td>555558.6111</td>\n",
       "    </tr>\n",
       "    <tr>\n",
       "      <th>1</th>\n",
       "      <td>Trek Conduit+ - 2016</td>\n",
       "      <td>145</td>\n",
       "      <td>389248.7025</td>\n",
       "    </tr>\n",
       "    <tr>\n",
       "      <th>2</th>\n",
       "      <td>Trek Fuel EX 8 29 - 2016</td>\n",
       "      <td>143</td>\n",
       "      <td>368472.7294</td>\n",
       "    </tr>\n",
       "    <tr>\n",
       "      <th>3</th>\n",
       "      <td>Surly Straggler 650b - 2016</td>\n",
       "      <td>151</td>\n",
       "      <td>226765.5510</td>\n",
       "    </tr>\n",
       "    <tr>\n",
       "      <th>4</th>\n",
       "      <td>Trek Domane SLR 6 Disc - 2017</td>\n",
       "      <td>43</td>\n",
       "      <td>211584.6153</td>\n",
       "    </tr>\n",
       "    <tr>\n",
       "      <th>5</th>\n",
       "      <td>Surly Straggler - 2016</td>\n",
       "      <td>147</td>\n",
       "      <td>203507.6200</td>\n",
       "    </tr>\n",
       "    <tr>\n",
       "      <th>6</th>\n",
       "      <td>Trek Remedy 29 Carbon Frameset - 2016</td>\n",
       "      <td>125</td>\n",
       "      <td>203380.8701</td>\n",
       "    </tr>\n",
       "    <tr>\n",
       "      <th>7</th>\n",
       "      <td>Trek Powerfly 8 FS Plus - 2017</td>\n",
       "      <td>41</td>\n",
       "      <td>188249.6235</td>\n",
       "    </tr>\n",
       "    <tr>\n",
       "      <th>8</th>\n",
       "      <td>Trek Madone 9.2 - 2017</td>\n",
       "      <td>39</td>\n",
       "      <td>175899.6482</td>\n",
       "    </tr>\n",
       "    <tr>\n",
       "      <th>9</th>\n",
       "      <td>Trek Silque SLR 8 Women's - 2017</td>\n",
       "      <td>29</td>\n",
       "      <td>174524.7315</td>\n",
       "    </tr>\n",
       "  </tbody>\n",
       "</table>\n",
       "</div>"
      ],
      "text/plain": [
       "                            product_name  total_quantity  total_revenue\n",
       "0               Trek Slash 8 27.5 - 2016             154    555558.6111\n",
       "1                   Trek Conduit+ - 2016             145    389248.7025\n",
       "2               Trek Fuel EX 8 29 - 2016             143    368472.7294\n",
       "3            Surly Straggler 650b - 2016             151    226765.5510\n",
       "4          Trek Domane SLR 6 Disc - 2017              43    211584.6153\n",
       "5                 Surly Straggler - 2016             147    203507.6200\n",
       "6  Trek Remedy 29 Carbon Frameset - 2016             125    203380.8701\n",
       "7         Trek Powerfly 8 FS Plus - 2017              41    188249.6235\n",
       "8                 Trek Madone 9.2 - 2017              39    175899.6482\n",
       "9       Trek Silque SLR 8 Women's - 2017              29    174524.7315"
      ]
     },
     "execution_count": 36,
     "metadata": {},
     "output_type": "execute_result"
    }
   ],
   "source": [
    "query = \"\"\"\n",
    "SELECT \n",
    "    p.product_name,\n",
    "    SUM(oi.quantity) AS total_quantity,\n",
    "    SUM(oi.quantity * oi.list_price * (1 - oi.discount)) AS total_revenue\n",
    "FROM order_items oi\n",
    "JOIN products p ON oi.product_id = p.product_id\n",
    "GROUP BY p.product_name\n",
    "ORDER BY total_revenue DESC\n",
    "LIMIT 10;\n",
    "\"\"\"\n",
    "pd.read_sql(query, conn)\n"
   ]
  },
  {
   "cell_type": "markdown",
   "id": "a9300339",
   "metadata": {},
   "source": [
    "***Which category or brand brings in the most sales***"
   ]
  },
  {
   "cell_type": "code",
   "execution_count": 37,
   "id": "b67f265f",
   "metadata": {},
   "outputs": [
    {
     "name": "stdout",
     "output_type": "stream",
     "text": [
      "         category_name  total_revenue\n",
      "0       Mountain Bikes   2.715080e+06\n",
      "1           Road Bikes   1.665098e+06\n",
      "2    Cruisers Bicycles   9.950326e+05\n",
      "3       Electric Bikes   9.166848e+05\n",
      "4  Cyclocross Bicycles   7.110118e+05\n",
      "5     Comfort Bicycles   3.940201e+05\n",
      "6    Children Bicycles   2.921892e+05\n",
      "     brand_name  total_revenue\n",
      "0          Trek   4.602754e+06\n",
      "1       Electra   1.205321e+06\n",
      "2         Surly   9.495071e+05\n",
      "3  Sun Bicycles   3.419949e+05\n",
      "4          Haro   1.853846e+05\n",
      "5        Heller   1.714591e+05\n",
      "6   Pure Cycles   1.494763e+05\n",
      "7       Ritchey   7.889895e+04\n",
      "8       Strider   4.320479e+03\n"
     ]
    },
    {
     "name": "stderr",
     "output_type": "stream",
     "text": [
      "C:\\Users\\Admin\\AppData\\Local\\Temp\\ipykernel_25476\\3935477587.py:12: UserWarning: pandas only supports SQLAlchemy connectable (engine/connection) or database string URI or sqlite3 DBAPI2 connection. Other DBAPI2 objects are not tested. Please consider using SQLAlchemy.\n",
      "  category_df = pd.read_sql(category_query, conn)\n",
      "C:\\Users\\Admin\\AppData\\Local\\Temp\\ipykernel_25476\\3935477587.py:25: UserWarning: pandas only supports SQLAlchemy connectable (engine/connection) or database string URI or sqlite3 DBAPI2 connection. Other DBAPI2 objects are not tested. Please consider using SQLAlchemy.\n",
      "  brand_df = pd.read_sql(brand_query, conn)\n"
     ]
    }
   ],
   "source": [
    "# By category\n",
    "category_query = \"\"\"\n",
    "SELECT \n",
    "    c.category_name,\n",
    "    SUM(oi.quantity * oi.list_price * (1 - oi.discount)) AS total_revenue\n",
    "FROM order_items oi\n",
    "JOIN products p ON oi.product_id = p.product_id\n",
    "JOIN categories c ON p.category_id = c.category_id\n",
    "GROUP BY c.category_name\n",
    "ORDER BY total_revenue DESC;\n",
    "\"\"\"\n",
    "category_df = pd.read_sql(category_query, conn)\n",
    "print(category_df)\n",
    "# By brand\n",
    "brand_query = \"\"\"\n",
    "SELECT \n",
    "    b.brand_name,\n",
    "    SUM(oi.quantity * oi.list_price * (1 - oi.discount)) AS total_revenue\n",
    "FROM order_items oi\n",
    "JOIN products p ON oi.product_id = p.product_id\n",
    "JOIN brands b ON p.brand_id = b.brand_id\n",
    "GROUP BY b.brand_name\n",
    "ORDER BY total_revenue DESC;\n",
    "\"\"\"\n",
    "brand_df = pd.read_sql(brand_query, conn)\n",
    "print(brand_df)\n"
   ]
  },
  {
   "cell_type": "markdown",
   "id": "9f3cac4b",
   "metadata": {},
   "source": [
    "***Which months had the highest sales?***"
   ]
  },
  {
   "cell_type": "code",
   "execution_count": 38,
   "id": "fc94bfa0",
   "metadata": {},
   "outputs": [
    {
     "name": "stderr",
     "output_type": "stream",
     "text": [
      "C:\\Users\\Admin\\AppData\\Local\\Temp\\ipykernel_25476\\3504398774.py:10: UserWarning: pandas only supports SQLAlchemy connectable (engine/connection) or database string URI or sqlite3 DBAPI2 connection. Other DBAPI2 objects are not tested. Please consider using SQLAlchemy.\n",
      "  monthly_sales = pd.read_sql(query, conn)\n"
     ]
    },
    {
     "data": {
      "text/plain": [
       "<Axes: title={'center': 'Monthly Revenue Trend'}, xlabel='month'>"
      ]
     },
     "execution_count": 38,
     "metadata": {},
     "output_type": "execute_result"
    },
    {
     "data": {
      "image/png": "[encoded data removed]",
      "text/plain": [
       "<Figure size 640x480 with 1 Axes>"
      ]
     },
     "metadata": {},
     "output_type": "display_data"
    }
   ],
   "source": [
    "query = \"\"\"\n",
    "SELECT \n",
    "    DATE_TRUNC('month', order_date) AS month,\n",
    "    SUM(oi.quantity * oi.list_price * (1 - oi.discount)) AS total_revenue\n",
    "FROM order_items oi\n",
    "JOIN orders o ON oi.order_id = o.order_id\n",
    "GROUP BY month\n",
    "ORDER BY month;\n",
    "\"\"\"\n",
    "monthly_sales = pd.read_sql(query, conn)\n",
    "monthly_sales.plot(x='month', y='total_revenue', kind='line', title='Monthly Revenue Trend')\n"
   ]
  },
  {
   "cell_type": "markdown",
   "id": "e2e978a6",
   "metadata": {},
   "source": [
    "***What is the average order value per customer?***"
   ]
  },
  {
   "cell_type": "code",
   "execution_count": 39,
   "id": "dcf99d7f",
   "metadata": {},
   "outputs": [
    {
     "name": "stderr",
     "output_type": "stream",
     "text": [
      "C:\\Users\\Admin\\AppData\\Local\\Temp\\ipykernel_25476\\3233395354.py:14: UserWarning: pandas only supports SQLAlchemy connectable (engine/connection) or database string URI or sqlite3 DBAPI2 connection. Other DBAPI2 objects are not tested. Please consider using SQLAlchemy.\n",
      "  pd.read_sql(query, conn)\n"
     ]
    },
    {
     "data": {
      "text/html": [
       "<div>\n",
       "<style scoped>\n",
       "    .dataframe tbody tr th:only-of-type {\n",
       "        vertical-align: middle;\n",
       "    }\n",
       "\n",
       "    .dataframe tbody tr th {\n",
       "        vertical-align: top;\n",
       "    }\n",
       "\n",
       "    .dataframe thead th {\n",
       "        text-align: right;\n",
       "    }\n",
       "</style>\n",
       "<table border=\"1\" class=\"dataframe\">\n",
       "  <thead>\n",
       "    <tr style=\"text-align: right;\">\n",
       "      <th></th>\n",
       "      <th>customer_id</th>\n",
       "      <th>customer_name</th>\n",
       "      <th>total_orders</th>\n",
       "      <th>total_spent</th>\n",
       "      <th>avg_order_value</th>\n",
       "    </tr>\n",
       "  </thead>\n",
       "  <tbody>\n",
       "    <tr>\n",
       "      <th>0</th>\n",
       "      <td>94</td>\n",
       "      <td>Sharyn Hopkins</td>\n",
       "      <td>2</td>\n",
       "      <td>34807.9392</td>\n",
       "      <td>3480.793920</td>\n",
       "    </tr>\n",
       "    <tr>\n",
       "      <th>1</th>\n",
       "      <td>10</td>\n",
       "      <td>Pamelia Newman</td>\n",
       "      <td>3</td>\n",
       "      <td>33634.2604</td>\n",
       "      <td>3057.660036</td>\n",
       "    </tr>\n",
       "    <tr>\n",
       "      <th>2</th>\n",
       "      <td>75</td>\n",
       "      <td>Abby Gamble</td>\n",
       "      <td>2</td>\n",
       "      <td>32803.0062</td>\n",
       "      <td>4686.143743</td>\n",
       "    </tr>\n",
       "    <tr>\n",
       "      <th>3</th>\n",
       "      <td>6</td>\n",
       "      <td>Lyndsey Bean</td>\n",
       "      <td>3</td>\n",
       "      <td>32675.0725</td>\n",
       "      <td>2970.461136</td>\n",
       "    </tr>\n",
       "    <tr>\n",
       "      <th>4</th>\n",
       "      <td>16</td>\n",
       "      <td>Emmitt Sanchez</td>\n",
       "      <td>3</td>\n",
       "      <td>31925.8857</td>\n",
       "      <td>2660.490475</td>\n",
       "    </tr>\n",
       "    <tr>\n",
       "      <th>...</th>\n",
       "      <td>...</td>\n",
       "      <td>...</td>\n",
       "      <td>...</td>\n",
       "      <td>...</td>\n",
       "      <td>...</td>\n",
       "    </tr>\n",
       "    <tr>\n",
       "      <th>1440</th>\n",
       "      <td>752</td>\n",
       "      <td>Lloyd Miranda</td>\n",
       "      <td>1</td>\n",
       "      <td>170.9910</td>\n",
       "      <td>170.991000</td>\n",
       "    </tr>\n",
       "    <tr>\n",
       "      <th>1441</th>\n",
       "      <td>177</td>\n",
       "      <td>Carissa Foreman</td>\n",
       "      <td>1</td>\n",
       "      <td>170.9910</td>\n",
       "      <td>170.991000</td>\n",
       "    </tr>\n",
       "    <tr>\n",
       "      <th>1442</th>\n",
       "      <td>1111</td>\n",
       "      <td>Caroline Jenkins</td>\n",
       "      <td>1</td>\n",
       "      <td>170.9910</td>\n",
       "      <td>170.991000</td>\n",
       "    </tr>\n",
       "    <tr>\n",
       "      <th>1443</th>\n",
       "      <td>718</td>\n",
       "      <td>Luciana Mcgee</td>\n",
       "      <td>1</td>\n",
       "      <td>167.9920</td>\n",
       "      <td>167.992000</td>\n",
       "    </tr>\n",
       "    <tr>\n",
       "      <th>1444</th>\n",
       "      <td>850</td>\n",
       "      <td>Stephanie Browning</td>\n",
       "      <td>1</td>\n",
       "      <td>104.4905</td>\n",
       "      <td>104.490500</td>\n",
       "    </tr>\n",
       "  </tbody>\n",
       "</table>\n",
       "<p>1445 rows × 5 columns</p>\n",
       "</div>"
      ],
      "text/plain": [
       "      customer_id       customer_name  total_orders  total_spent  \\\n",
       "0              94      Sharyn Hopkins             2   34807.9392   \n",
       "1              10      Pamelia Newman             3   33634.2604   \n",
       "2              75         Abby Gamble             2   32803.0062   \n",
       "3               6        Lyndsey Bean             3   32675.0725   \n",
       "4              16      Emmitt Sanchez             3   31925.8857   \n",
       "...           ...                 ...           ...          ...   \n",
       "1440          752       Lloyd Miranda             1     170.9910   \n",
       "1441          177     Carissa Foreman             1     170.9910   \n",
       "1442         1111    Caroline Jenkins             1     170.9910   \n",
       "1443          718       Luciana Mcgee             1     167.9920   \n",
       "1444          850  Stephanie Browning             1     104.4905   \n",
       "\n",
       "      avg_order_value  \n",
       "0         3480.793920  \n",
       "1         3057.660036  \n",
       "2         4686.143743  \n",
       "3         2970.461136  \n",
       "4         2660.490475  \n",
       "...               ...  \n",
       "1440       170.991000  \n",
       "1441       170.991000  \n",
       "1442       170.991000  \n",
       "1443       167.992000  \n",
       "1444       104.490500  \n",
       "\n",
       "[1445 rows x 5 columns]"
      ]
     },
     "execution_count": 39,
     "metadata": {},
     "output_type": "execute_result"
    }
   ],
   "source": [
    "query = \"\"\"\n",
    "SELECT \n",
    "    c.customer_id,\n",
    "    c.first_name || ' ' || c.last_name AS customer_name,\n",
    "    COUNT(DISTINCT o.order_id) AS total_orders,\n",
    "    SUM(oi.quantity * oi.list_price * (1 - oi.discount)) AS total_spent,\n",
    "    AVG(oi.quantity * oi.list_price * (1 - oi.discount)) AS avg_order_value\n",
    "FROM order_items oi\n",
    "JOIN orders o ON oi.order_id = o.order_id\n",
    "JOIN customers c ON o.customer_id = c.customer_id\n",
    "GROUP BY c.customer_id, customer_name\n",
    "ORDER BY total_spent DESC;\n",
    "\"\"\"\n",
    "pd.read_sql(query, conn)\n"
   ]
  },
  {
   "cell_type": "markdown",
   "id": "718d23b5",
   "metadata": {},
   "source": [
    "***🧠 Customer Behavior***\n",
    "\n",
    "Understanding customer behavior is key to customer-centric strategies.\n",
    "\n",
    "This section explores customer purchase frequency, spending patterns, and geographic distribution.\n",
    "\n",
    "It enables segmentation and targeting of high-value customers, helping optimize marketing and retention efforts."
   ]
  },
  {
   "cell_type": "markdown",
   "id": "ea54fc82",
   "metadata": {},
   "source": [
    "***Top Customers by Total Spend***"
   ]
  },
  {
   "cell_type": "code",
   "execution_count": 40,
   "id": "cac78b0e",
   "metadata": {},
   "outputs": [
    {
     "name": "stderr",
     "output_type": "stream",
     "text": [
      "C:\\Users\\Admin\\AppData\\Local\\Temp\\ipykernel_25476\\3978638129.py:14: UserWarning: pandas only supports SQLAlchemy connectable (engine/connection) or database string URI or sqlite3 DBAPI2 connection. Other DBAPI2 objects are not tested. Please consider using SQLAlchemy.\n",
      "  df_top_customers = pd.read_sql_query(query, conn)\n"
     ]
    },
    {
     "data": {
      "text/html": [
       "<div>\n",
       "<style scoped>\n",
       "    .dataframe tbody tr th:only-of-type {\n",
       "        vertical-align: middle;\n",
       "    }\n",
       "\n",
       "    .dataframe tbody tr th {\n",
       "        vertical-align: top;\n",
       "    }\n",
       "\n",
       "    .dataframe thead th {\n",
       "        text-align: right;\n",
       "    }\n",
       "</style>\n",
       "<table border=\"1\" class=\"dataframe\">\n",
       "  <thead>\n",
       "    <tr style=\"text-align: right;\">\n",
       "      <th></th>\n",
       "      <th>customer_id</th>\n",
       "      <th>customer_name</th>\n",
       "      <th>total_orders</th>\n",
       "      <th>total_spent</th>\n",
       "    </tr>\n",
       "  </thead>\n",
       "  <tbody>\n",
       "    <tr>\n",
       "      <th>0</th>\n",
       "      <td>94</td>\n",
       "      <td>Sharyn Hopkins</td>\n",
       "      <td>2</td>\n",
       "      <td>34807.9392</td>\n",
       "    </tr>\n",
       "    <tr>\n",
       "      <th>1</th>\n",
       "      <td>10</td>\n",
       "      <td>Pamelia Newman</td>\n",
       "      <td>3</td>\n",
       "      <td>33634.2604</td>\n",
       "    </tr>\n",
       "    <tr>\n",
       "      <th>2</th>\n",
       "      <td>75</td>\n",
       "      <td>Abby Gamble</td>\n",
       "      <td>2</td>\n",
       "      <td>32803.0062</td>\n",
       "    </tr>\n",
       "    <tr>\n",
       "      <th>3</th>\n",
       "      <td>6</td>\n",
       "      <td>Lyndsey Bean</td>\n",
       "      <td>3</td>\n",
       "      <td>32675.0725</td>\n",
       "    </tr>\n",
       "    <tr>\n",
       "      <th>4</th>\n",
       "      <td>16</td>\n",
       "      <td>Emmitt Sanchez</td>\n",
       "      <td>3</td>\n",
       "      <td>31925.8857</td>\n",
       "    </tr>\n",
       "    <tr>\n",
       "      <th>5</th>\n",
       "      <td>73</td>\n",
       "      <td>Melanie Hayes</td>\n",
       "      <td>2</td>\n",
       "      <td>31913.6902</td>\n",
       "    </tr>\n",
       "    <tr>\n",
       "      <th>6</th>\n",
       "      <td>1</td>\n",
       "      <td>Debra Burks</td>\n",
       "      <td>3</td>\n",
       "      <td>27888.1834</td>\n",
       "    </tr>\n",
       "    <tr>\n",
       "      <th>7</th>\n",
       "      <td>61</td>\n",
       "      <td>Elinore Aguilar</td>\n",
       "      <td>3</td>\n",
       "      <td>25636.4531</td>\n",
       "    </tr>\n",
       "    <tr>\n",
       "      <th>8</th>\n",
       "      <td>93</td>\n",
       "      <td>Corrina Sawyer</td>\n",
       "      <td>2</td>\n",
       "      <td>25612.7021</td>\n",
       "    </tr>\n",
       "    <tr>\n",
       "      <th>9</th>\n",
       "      <td>122</td>\n",
       "      <td>Shena Carter</td>\n",
       "      <td>1</td>\n",
       "      <td>24890.6244</td>\n",
       "    </tr>\n",
       "  </tbody>\n",
       "</table>\n",
       "</div>"
      ],
      "text/plain": [
       "   customer_id    customer_name  total_orders  total_spent\n",
       "0           94   Sharyn Hopkins             2   34807.9392\n",
       "1           10   Pamelia Newman             3   33634.2604\n",
       "2           75      Abby Gamble             2   32803.0062\n",
       "3            6     Lyndsey Bean             3   32675.0725\n",
       "4           16   Emmitt Sanchez             3   31925.8857\n",
       "5           73    Melanie Hayes             2   31913.6902\n",
       "6            1      Debra Burks             3   27888.1834\n",
       "7           61  Elinore Aguilar             3   25636.4531\n",
       "8           93   Corrina Sawyer             2   25612.7021\n",
       "9          122     Shena Carter             1   24890.6244"
      ]
     },
     "execution_count": 40,
     "metadata": {},
     "output_type": "execute_result"
    }
   ],
   "source": [
    "query = \"\"\"\n",
    "SELECT \n",
    "    c.customer_id,\n",
    "    c.first_name || ' ' || c.last_name AS customer_name,\n",
    "    COUNT(DISTINCT o.order_id) AS total_orders,\n",
    "    SUM(oi.quantity * oi.list_price * (1 - oi.discount)) AS total_spent\n",
    "FROM customers c\n",
    "JOIN orders o ON c.customer_id = o.customer_id\n",
    "JOIN order_items oi ON o.order_id = oi.order_id\n",
    "GROUP BY c.customer_id, customer_name\n",
    "ORDER BY total_spent DESC\n",
    "LIMIT 10;\n",
    "\"\"\"\n",
    "df_top_customers = pd.read_sql_query(query, conn)\n",
    "df_top_customers\n"
   ]
  },
  {
   "cell_type": "markdown",
   "id": "a0272fdf",
   "metadata": {},
   "source": [
    "***Average Order Value (AOV) per Customer***"
   ]
  },
  {
   "cell_type": "code",
   "execution_count": 41,
   "id": "e6a136e2",
   "metadata": {},
   "outputs": [
    {
     "name": "stderr",
     "output_type": "stream",
     "text": [
      "C:\\Users\\Admin\\AppData\\Local\\Temp\\ipykernel_25476\\2109653872.py:15: UserWarning: pandas only supports SQLAlchemy connectable (engine/connection) or database string URI or sqlite3 DBAPI2 connection. Other DBAPI2 objects are not tested. Please consider using SQLAlchemy.\n",
      "  df_avg_order_value = pd.read_sql_query(query, conn)\n"
     ]
    },
    {
     "data": {
      "text/html": [
       "<div>\n",
       "<style scoped>\n",
       "    .dataframe tbody tr th:only-of-type {\n",
       "        vertical-align: middle;\n",
       "    }\n",
       "\n",
       "    .dataframe tbody tr th {\n",
       "        vertical-align: top;\n",
       "    }\n",
       "\n",
       "    .dataframe thead th {\n",
       "        text-align: right;\n",
       "    }\n",
       "</style>\n",
       "<table border=\"1\" class=\"dataframe\">\n",
       "  <thead>\n",
       "    <tr style=\"text-align: right;\">\n",
       "      <th></th>\n",
       "      <th>customer_id</th>\n",
       "      <th>customer_name</th>\n",
       "      <th>total_orders</th>\n",
       "      <th>total_spent</th>\n",
       "      <th>avg_order_value</th>\n",
       "    </tr>\n",
       "  </thead>\n",
       "  <tbody>\n",
       "    <tr>\n",
       "      <th>0</th>\n",
       "      <td>122</td>\n",
       "      <td>Shena Carter</td>\n",
       "      <td>1</td>\n",
       "      <td>24890.6244</td>\n",
       "      <td>24890.62</td>\n",
       "    </tr>\n",
       "    <tr>\n",
       "      <th>1</th>\n",
       "      <td>1224</td>\n",
       "      <td>Abram Copeland</td>\n",
       "      <td>1</td>\n",
       "      <td>24607.0261</td>\n",
       "      <td>24607.03</td>\n",
       "    </tr>\n",
       "    <tr>\n",
       "      <th>2</th>\n",
       "      <td>1214</td>\n",
       "      <td>Brigid Sharp</td>\n",
       "      <td>1</td>\n",
       "      <td>20648.9537</td>\n",
       "      <td>20648.95</td>\n",
       "    </tr>\n",
       "    <tr>\n",
       "      <th>3</th>\n",
       "      <td>425</td>\n",
       "      <td>Augustina Joyner</td>\n",
       "      <td>1</td>\n",
       "      <td>20509.4254</td>\n",
       "      <td>20509.43</td>\n",
       "    </tr>\n",
       "    <tr>\n",
       "      <th>4</th>\n",
       "      <td>238</td>\n",
       "      <td>Cindi Larson</td>\n",
       "      <td>1</td>\n",
       "      <td>20177.7457</td>\n",
       "      <td>20177.75</td>\n",
       "    </tr>\n",
       "    <tr>\n",
       "      <th>5</th>\n",
       "      <td>1023</td>\n",
       "      <td>Adena Blake</td>\n",
       "      <td>1</td>\n",
       "      <td>19329.9492</td>\n",
       "      <td>19329.95</td>\n",
       "    </tr>\n",
       "    <tr>\n",
       "      <th>6</th>\n",
       "      <td>464</td>\n",
       "      <td>Bess Mcbride</td>\n",
       "      <td>1</td>\n",
       "      <td>18853.3544</td>\n",
       "      <td>18853.35</td>\n",
       "    </tr>\n",
       "    <tr>\n",
       "      <th>7</th>\n",
       "      <td>1100</td>\n",
       "      <td>Penny Acevedo</td>\n",
       "      <td>1</td>\n",
       "      <td>18670.9288</td>\n",
       "      <td>18670.93</td>\n",
       "    </tr>\n",
       "    <tr>\n",
       "      <th>8</th>\n",
       "      <td>227</td>\n",
       "      <td>Danielle Bond</td>\n",
       "      <td>1</td>\n",
       "      <td>18553.7300</td>\n",
       "      <td>18553.73</td>\n",
       "    </tr>\n",
       "    <tr>\n",
       "      <th>9</th>\n",
       "      <td>108</td>\n",
       "      <td>Shae Hickman</td>\n",
       "      <td>1</td>\n",
       "      <td>18281.4729</td>\n",
       "      <td>18281.47</td>\n",
       "    </tr>\n",
       "  </tbody>\n",
       "</table>\n",
       "</div>"
      ],
      "text/plain": [
       "   customer_id     customer_name  total_orders  total_spent  avg_order_value\n",
       "0          122      Shena Carter             1   24890.6244         24890.62\n",
       "1         1224    Abram Copeland             1   24607.0261         24607.03\n",
       "2         1214      Brigid Sharp             1   20648.9537         20648.95\n",
       "3          425  Augustina Joyner             1   20509.4254         20509.43\n",
       "4          238      Cindi Larson             1   20177.7457         20177.75\n",
       "5         1023       Adena Blake             1   19329.9492         19329.95\n",
       "6          464      Bess Mcbride             1   18853.3544         18853.35\n",
       "7         1100     Penny Acevedo             1   18670.9288         18670.93\n",
       "8          227     Danielle Bond             1   18553.7300         18553.73\n",
       "9          108      Shae Hickman             1   18281.4729         18281.47"
      ]
     },
     "execution_count": 41,
     "metadata": {},
     "output_type": "execute_result"
    }
   ],
   "source": [
    "query = \"\"\"\n",
    "SELECT \n",
    "    c.customer_id,\n",
    "    c.first_name || ' ' || c.last_name AS customer_name,\n",
    "    COUNT(DISTINCT o.order_id) AS total_orders,\n",
    "    SUM(oi.quantity * oi.list_price * (1 - oi.discount)) AS total_spent,\n",
    "    ROUND(SUM(oi.quantity * oi.list_price * (1 - oi.discount)) / COUNT(DISTINCT o.order_id), 2) AS avg_order_value\n",
    "FROM customers c\n",
    "JOIN orders o ON c.customer_id = o.customer_id\n",
    "JOIN order_items oi ON o.order_id = oi.order_id\n",
    "GROUP BY c.customer_id, customer_name\n",
    "ORDER BY avg_order_value DESC\n",
    "LIMIT 10;\n",
    "\"\"\"\n",
    "df_avg_order_value = pd.read_sql_query(query, conn)\n",
    "df_avg_order_value\n"
   ]
  },
  {
   "cell_type": "markdown",
   "id": "3cb38202",
   "metadata": {},
   "source": [
    "***Customers with Most Orders***"
   ]
  },
  {
   "cell_type": "code",
   "execution_count": 42,
   "id": "e1154d75",
   "metadata": {},
   "outputs": [
    {
     "name": "stderr",
     "output_type": "stream",
     "text": [
      "C:\\Users\\Admin\\AppData\\Local\\Temp\\ipykernel_25476\\683875539.py:12: UserWarning: pandas only supports SQLAlchemy connectable (engine/connection) or database string URI or sqlite3 DBAPI2 connection. Other DBAPI2 objects are not tested. Please consider using SQLAlchemy.\n",
      "  df_most_orders = pd.read_sql_query(query, conn)\n"
     ]
    },
    {
     "data": {
      "text/html": [
       "<div>\n",
       "<style scoped>\n",
       "    .dataframe tbody tr th:only-of-type {\n",
       "        vertical-align: middle;\n",
       "    }\n",
       "\n",
       "    .dataframe tbody tr th {\n",
       "        vertical-align: top;\n",
       "    }\n",
       "\n",
       "    .dataframe thead th {\n",
       "        text-align: right;\n",
       "    }\n",
       "</style>\n",
       "<table border=\"1\" class=\"dataframe\">\n",
       "  <thead>\n",
       "    <tr style=\"text-align: right;\">\n",
       "      <th></th>\n",
       "      <th>customer_id</th>\n",
       "      <th>customer_name</th>\n",
       "      <th>order_count</th>\n",
       "    </tr>\n",
       "  </thead>\n",
       "  <tbody>\n",
       "    <tr>\n",
       "      <th>0</th>\n",
       "      <td>2</td>\n",
       "      <td>Kasha Todd</td>\n",
       "      <td>3</td>\n",
       "    </tr>\n",
       "    <tr>\n",
       "      <th>1</th>\n",
       "      <td>3</td>\n",
       "      <td>Tameka Fisher</td>\n",
       "      <td>3</td>\n",
       "    </tr>\n",
       "    <tr>\n",
       "      <th>2</th>\n",
       "      <td>4</td>\n",
       "      <td>Daryl Spence</td>\n",
       "      <td>3</td>\n",
       "    </tr>\n",
       "    <tr>\n",
       "      <th>3</th>\n",
       "      <td>5</td>\n",
       "      <td>Charolette Rice</td>\n",
       "      <td>3</td>\n",
       "    </tr>\n",
       "    <tr>\n",
       "      <th>4</th>\n",
       "      <td>6</td>\n",
       "      <td>Lyndsey Bean</td>\n",
       "      <td>3</td>\n",
       "    </tr>\n",
       "    <tr>\n",
       "      <th>5</th>\n",
       "      <td>7</td>\n",
       "      <td>Latasha Hays</td>\n",
       "      <td>3</td>\n",
       "    </tr>\n",
       "    <tr>\n",
       "      <th>6</th>\n",
       "      <td>8</td>\n",
       "      <td>Jacquline Duncan</td>\n",
       "      <td>3</td>\n",
       "    </tr>\n",
       "    <tr>\n",
       "      <th>7</th>\n",
       "      <td>9</td>\n",
       "      <td>Genoveva Baldwin</td>\n",
       "      <td>3</td>\n",
       "    </tr>\n",
       "    <tr>\n",
       "      <th>8</th>\n",
       "      <td>10</td>\n",
       "      <td>Pamelia Newman</td>\n",
       "      <td>3</td>\n",
       "    </tr>\n",
       "    <tr>\n",
       "      <th>9</th>\n",
       "      <td>1</td>\n",
       "      <td>Debra Burks</td>\n",
       "      <td>3</td>\n",
       "    </tr>\n",
       "  </tbody>\n",
       "</table>\n",
       "</div>"
      ],
      "text/plain": [
       "   customer_id     customer_name  order_count\n",
       "0            2        Kasha Todd            3\n",
       "1            3     Tameka Fisher            3\n",
       "2            4      Daryl Spence            3\n",
       "3            5   Charolette Rice            3\n",
       "4            6      Lyndsey Bean            3\n",
       "5            7      Latasha Hays            3\n",
       "6            8  Jacquline Duncan            3\n",
       "7            9  Genoveva Baldwin            3\n",
       "8           10    Pamelia Newman            3\n",
       "9            1       Debra Burks            3"
      ]
     },
     "execution_count": 42,
     "metadata": {},
     "output_type": "execute_result"
    }
   ],
   "source": [
    "query = \"\"\"\n",
    "SELECT \n",
    "    c.customer_id,\n",
    "    c.first_name || ' ' || c.last_name AS customer_name,\n",
    "    COUNT(DISTINCT o.order_id) AS order_count\n",
    "FROM customers c\n",
    "JOIN orders o ON c.customer_id = o.customer_id\n",
    "GROUP BY c.customer_id, customer_name\n",
    "ORDER BY order_count DESC\n",
    "LIMIT 10;\n",
    "\"\"\"\n",
    "df_most_orders = pd.read_sql_query(query, conn)\n",
    "df_most_orders\n"
   ]
  },
  {
   "cell_type": "markdown",
   "id": "c1221be5",
   "metadata": {},
   "source": [
    "***Most Active States (Customer Locations by Order Volume)***"
   ]
  },
  {
   "cell_type": "code",
   "execution_count": 43,
   "id": "f31e3c53",
   "metadata": {},
   "outputs": [
    {
     "name": "stderr",
     "output_type": "stream",
     "text": [
      "C:\\Users\\Admin\\AppData\\Local\\Temp\\ipykernel_25476\\2662525549.py:10: UserWarning: pandas only supports SQLAlchemy connectable (engine/connection) or database string URI or sqlite3 DBAPI2 connection. Other DBAPI2 objects are not tested. Please consider using SQLAlchemy.\n",
      "  df_states_activity = pd.read_sql_query(query, conn)\n",
      "C:\\Users\\Admin\\AppData\\Local\\Temp\\ipykernel_25476\\2662525549.py:14: FutureWarning: \n",
      "\n",
      "Passing `palette` without assigning `hue` is deprecated and will be removed in v0.14.0. Assign the `x` variable to `hue` and set `legend=False` for the same effect.\n",
      "\n",
      "  sns.barplot(data=df_states_activity, x='state', y='order_count', palette='coolwarm')\n"
     ]
    },
    {
     "data": {
      "image/png": "[encoded data removed]",
      "text/plain": [
       "<Figure size 1200x600 with 1 Axes>"
      ]
     },
     "metadata": {},
     "output_type": "display_data"
    }
   ],
   "source": [
    "query = \"\"\"\n",
    "SELECT \n",
    "    c.state,\n",
    "    COUNT(DISTINCT o.order_id) AS order_count\n",
    "FROM customers c\n",
    "JOIN orders o ON c.customer_id = o.customer_id\n",
    "GROUP BY c.state\n",
    "ORDER BY order_count DESC;\n",
    "\"\"\"\n",
    "df_states_activity = pd.read_sql_query(query, conn)\n",
    "df_states_activity\n",
    "# visualization\n",
    "plt.figure(figsize=(12,6))\n",
    "sns.barplot(data=df_states_activity, x='state', y='order_count', palette='coolwarm')\n",
    "plt.title('Order Volume by Customer State')\n",
    "plt.xlabel('State')\n",
    "plt.ylabel('Number of Orders')\n",
    "plt.xticks(rotation=45)\n",
    "plt.tight_layout()\n",
    "plt.show()\n"
   ]
  },
  {
   "cell_type": "markdown",
   "id": "f54cdd94",
   "metadata": {},
   "source": [
    "***Repeat vs. One-Time Customers***"
   ]
  },
  {
   "cell_type": "code",
   "execution_count": 44,
   "id": "9d95773e",
   "metadata": {},
   "outputs": [
    {
     "name": "stderr",
     "output_type": "stream",
     "text": [
      "C:\\Users\\Admin\\AppData\\Local\\Temp\\ipykernel_25476\\731108457.py:18: UserWarning: pandas only supports SQLAlchemy connectable (engine/connection) or database string URI or sqlite3 DBAPI2 connection. Other DBAPI2 objects are not tested. Please consider using SQLAlchemy.\n",
      "  df_repeat_customers = pd.read_sql_query(query, conn)\n"
     ]
    },
    {
     "data": {
      "text/html": [
       "<div>\n",
       "<style scoped>\n",
       "    .dataframe tbody tr th:only-of-type {\n",
       "        vertical-align: middle;\n",
       "    }\n",
       "\n",
       "    .dataframe tbody tr th {\n",
       "        vertical-align: top;\n",
       "    }\n",
       "\n",
       "    .dataframe thead th {\n",
       "        text-align: right;\n",
       "    }\n",
       "</style>\n",
       "<table border=\"1\" class=\"dataframe\">\n",
       "  <thead>\n",
       "    <tr style=\"text-align: right;\">\n",
       "      <th></th>\n",
       "      <th>customer_type</th>\n",
       "      <th>customer_count</th>\n",
       "    </tr>\n",
       "  </thead>\n",
       "  <tbody>\n",
       "    <tr>\n",
       "      <th>0</th>\n",
       "      <td>One-time</td>\n",
       "      <td>1314</td>\n",
       "    </tr>\n",
       "    <tr>\n",
       "      <th>1</th>\n",
       "      <td>Repeat</td>\n",
       "      <td>131</td>\n",
       "    </tr>\n",
       "  </tbody>\n",
       "</table>\n",
       "</div>"
      ],
      "text/plain": [
       "  customer_type  customer_count\n",
       "0      One-time            1314\n",
       "1        Repeat             131"
      ]
     },
     "execution_count": 44,
     "metadata": {},
     "output_type": "execute_result"
    }
   ],
   "source": [
    "query = \"\"\"\n",
    "SELECT \n",
    "    CASE \n",
    "        WHEN order_count = 1 THEN 'One-time'\n",
    "        ELSE 'Repeat'\n",
    "    END AS customer_type,\n",
    "    COUNT(*) AS customer_count\n",
    "FROM (\n",
    "    SELECT \n",
    "        c.customer_id,\n",
    "        COUNT(DISTINCT o.order_id) AS order_count\n",
    "    FROM customers c\n",
    "    JOIN orders o ON c.customer_id = o.customer_id\n",
    "    GROUP BY c.customer_id\n",
    ") sub\n",
    "GROUP BY customer_type;\n",
    "\"\"\"\n",
    "df_repeat_customers = pd.read_sql_query(query, conn)\n",
    "df_repeat_customers\n"
   ]
  },
  {
   "cell_type": "markdown",
   "id": "01fd061e",
   "metadata": {},
   "source": [
    "***🗂️ Order Management***\n",
    "\n",
    "This section analyzes order lifecycle metrics such as order volume, processing status, shipping times, and staff/store involvement. \n",
    "\n",
    "Efficient order management is essential for customer satisfaction, logistics planning, and identifying bottlenecks in the order fulfillment process."
   ]
  },
  {
   "cell_type": "markdown",
   "id": "d444ab10",
   "metadata": {},
   "source": [
    "***How many orders are placed per month?***"
   ]
  },
  {
   "cell_type": "code",
   "execution_count": 45,
   "id": "9e0fc94d",
   "metadata": {},
   "outputs": [
    {
     "name": "stderr",
     "output_type": "stream",
     "text": [
      "C:\\Users\\Admin\\AppData\\Local\\Temp\\ipykernel_25476\\3068256320.py:9: UserWarning: pandas only supports SQLAlchemy connectable (engine/connection) or database string URI or sqlite3 DBAPI2 connection. Other DBAPI2 objects are not tested. Please consider using SQLAlchemy.\n",
      "  df_orders_per_month = pd.read_sql_query(query, conn)\n"
     ]
    },
    {
     "data": {
      "image/png": "[encoded data removed]",
      "text/plain": [
       "<Figure size 1200x600 with 1 Axes>"
      ]
     },
     "metadata": {},
     "output_type": "display_data"
    }
   ],
   "source": [
    "query = \"\"\"\n",
    "SELECT \n",
    "    DATE_TRUNC('month', order_date) AS month,\n",
    "    COUNT(*) AS order_count\n",
    "FROM orders\n",
    "GROUP BY month\n",
    "ORDER BY month;\n",
    "\"\"\"\n",
    "df_orders_per_month = pd.read_sql_query(query, conn)\n",
    "df_orders_per_month\n",
    "# visualization\n",
    "plt.figure(figsize=(12,6))\n",
    "plt.plot(df_orders_per_month['month'], df_orders_per_month['order_count'], marker='o', color='teal')\n",
    "plt.title('Orders Placed Per Month')\n",
    "plt.xlabel('Month')\n",
    "plt.ylabel('Number of Orders')\n",
    "plt.grid(True)\n",
    "plt.tight_layout()\n",
    "plt.show()\n"
   ]
  },
  {
   "cell_type": "markdown",
   "id": "4862cd54",
   "metadata": {},
   "source": [
    "***What is the status breakdown of orders (completed, pending)?***"
   ]
  },
  {
   "cell_type": "code",
   "execution_count": 46,
   "id": "7b0ba847",
   "metadata": {},
   "outputs": [
    {
     "name": "stderr",
     "output_type": "stream",
     "text": [
      "C:\\Users\\Admin\\AppData\\Local\\Temp\\ipykernel_25476\\142983638.py:9: UserWarning: pandas only supports SQLAlchemy connectable (engine/connection) or database string URI or sqlite3 DBAPI2 connection. Other DBAPI2 objects are not tested. Please consider using SQLAlchemy.\n",
      "  df_status_breakdown = pd.read_sql_query(query, conn)\n"
     ]
    },
    {
     "data": {
      "text/html": [
       "<div>\n",
       "<style scoped>\n",
       "    .dataframe tbody tr th:only-of-type {\n",
       "        vertical-align: middle;\n",
       "    }\n",
       "\n",
       "    .dataframe tbody tr th {\n",
       "        vertical-align: top;\n",
       "    }\n",
       "\n",
       "    .dataframe thead th {\n",
       "        text-align: right;\n",
       "    }\n",
       "</style>\n",
       "<table border=\"1\" class=\"dataframe\">\n",
       "  <thead>\n",
       "    <tr style=\"text-align: right;\">\n",
       "      <th></th>\n",
       "      <th>order_status</th>\n",
       "      <th>count</th>\n",
       "    </tr>\n",
       "  </thead>\n",
       "  <tbody>\n",
       "    <tr>\n",
       "      <th>0</th>\n",
       "      <td>4</td>\n",
       "      <td>1445</td>\n",
       "    </tr>\n",
       "    <tr>\n",
       "      <th>1</th>\n",
       "      <td>2</td>\n",
       "      <td>63</td>\n",
       "    </tr>\n",
       "    <tr>\n",
       "      <th>2</th>\n",
       "      <td>1</td>\n",
       "      <td>62</td>\n",
       "    </tr>\n",
       "    <tr>\n",
       "      <th>3</th>\n",
       "      <td>3</td>\n",
       "      <td>45</td>\n",
       "    </tr>\n",
       "  </tbody>\n",
       "</table>\n",
       "</div>"
      ],
      "text/plain": [
       "  order_status  count\n",
       "0            4   1445\n",
       "1            2     63\n",
       "2            1     62\n",
       "3            3     45"
      ]
     },
     "execution_count": 46,
     "metadata": {},
     "output_type": "execute_result"
    }
   ],
   "source": [
    "query = \"\"\"\n",
    "SELECT \n",
    "    order_status,\n",
    "    COUNT(*) AS count\n",
    "FROM orders\n",
    "GROUP BY order_status\n",
    "ORDER BY count DESC;\n",
    "\"\"\"\n",
    "df_status_breakdown = pd.read_sql_query(query, conn)\n",
    "df_status_breakdown\n"
   ]
  },
  {
   "cell_type": "markdown",
   "id": "828a9340",
   "metadata": {},
   "source": [
    "***How long does it take on average to ship an order?***"
   ]
  },
  {
   "cell_type": "code",
   "execution_count": 47,
   "id": "3c5dfd57",
   "metadata": {},
   "outputs": [
    {
     "name": "stderr",
     "output_type": "stream",
     "text": [
      "C:\\Users\\Admin\\AppData\\Local\\Temp\\ipykernel_25476\\4138133821.py:7: UserWarning: pandas only supports SQLAlchemy connectable (engine/connection) or database string URI or sqlite3 DBAPI2 connection. Other DBAPI2 objects are not tested. Please consider using SQLAlchemy.\n",
      "  df_avg_shipping = pd.read_sql_query(query, conn)\n"
     ]
    },
    {
     "data": {
      "text/html": [
       "<div>\n",
       "<style scoped>\n",
       "    .dataframe tbody tr th:only-of-type {\n",
       "        vertical-align: middle;\n",
       "    }\n",
       "\n",
       "    .dataframe tbody tr th {\n",
       "        vertical-align: top;\n",
       "    }\n",
       "\n",
       "    .dataframe thead th {\n",
       "        text-align: right;\n",
       "    }\n",
       "</style>\n",
       "<table border=\"1\" class=\"dataframe\">\n",
       "  <thead>\n",
       "    <tr style=\"text-align: right;\">\n",
       "      <th></th>\n",
       "      <th>avg_shipping_days</th>\n",
       "    </tr>\n",
       "  </thead>\n",
       "  <tbody>\n",
       "    <tr>\n",
       "      <th>0</th>\n",
       "      <td>1.982007</td>\n",
       "    </tr>\n",
       "  </tbody>\n",
       "</table>\n",
       "</div>"
      ],
      "text/plain": [
       "   avg_shipping_days\n",
       "0           1.982007"
      ]
     },
     "execution_count": 47,
     "metadata": {},
     "output_type": "execute_result"
    }
   ],
   "source": [
    "query = \"\"\"\n",
    "SELECT \n",
    "    AVG(shipped_date - order_date) AS avg_shipping_days\n",
    "FROM orders\n",
    "WHERE shipped_date IS NOT NULL;\n",
    "\"\"\"\n",
    "df_avg_shipping = pd.read_sql_query(query, conn)\n",
    "df_avg_shipping\n"
   ]
  },
  {
   "cell_type": "markdown",
   "id": "25cb70b6",
   "metadata": {},
   "source": [
    "***Which stores handle the most orders?***"
   ]
  },
  {
   "cell_type": "code",
   "execution_count": 48,
   "id": "25a44858",
   "metadata": {},
   "outputs": [
    {
     "name": "stderr",
     "output_type": "stream",
     "text": [
      "C:\\Users\\Admin\\AppData\\Local\\Temp\\ipykernel_25476\\3795436524.py:11: UserWarning: pandas only supports SQLAlchemy connectable (engine/connection) or database string URI or sqlite3 DBAPI2 connection. Other DBAPI2 objects are not tested. Please consider using SQLAlchemy.\n",
      "  df_top_stores = pd.read_sql_query(query, conn)\n"
     ]
    },
    {
     "data": {
      "text/html": [
       "<div>\n",
       "<style scoped>\n",
       "    .dataframe tbody tr th:only-of-type {\n",
       "        vertical-align: middle;\n",
       "    }\n",
       "\n",
       "    .dataframe tbody tr th {\n",
       "        vertical-align: top;\n",
       "    }\n",
       "\n",
       "    .dataframe thead th {\n",
       "        text-align: right;\n",
       "    }\n",
       "</style>\n",
       "<table border=\"1\" class=\"dataframe\">\n",
       "  <thead>\n",
       "    <tr style=\"text-align: right;\">\n",
       "      <th></th>\n",
       "      <th>store_id</th>\n",
       "      <th>store_name</th>\n",
       "      <th>total_orders</th>\n",
       "    </tr>\n",
       "  </thead>\n",
       "  <tbody>\n",
       "    <tr>\n",
       "      <th>0</th>\n",
       "      <td>2</td>\n",
       "      <td>Baldwin Bikes</td>\n",
       "      <td>1093</td>\n",
       "    </tr>\n",
       "    <tr>\n",
       "      <th>1</th>\n",
       "      <td>1</td>\n",
       "      <td>Santa Cruz Bikes</td>\n",
       "      <td>348</td>\n",
       "    </tr>\n",
       "    <tr>\n",
       "      <th>2</th>\n",
       "      <td>3</td>\n",
       "      <td>Rowlett Bikes</td>\n",
       "      <td>174</td>\n",
       "    </tr>\n",
       "  </tbody>\n",
       "</table>\n",
       "</div>"
      ],
      "text/plain": [
       "   store_id        store_name  total_orders\n",
       "0         2     Baldwin Bikes          1093\n",
       "1         1  Santa Cruz Bikes           348\n",
       "2         3     Rowlett Bikes           174"
      ]
     },
     "execution_count": 48,
     "metadata": {},
     "output_type": "execute_result"
    }
   ],
   "source": [
    "query = \"\"\"\n",
    "SELECT \n",
    "    st.store_id,\n",
    "    st.store_name,\n",
    "    COUNT(o.order_id) AS total_orders\n",
    "FROM stores st\n",
    "JOIN orders o ON st.store_id = o.store_id\n",
    "GROUP BY st.store_id, st.store_name\n",
    "ORDER BY total_orders DESC;\n",
    "\"\"\"\n",
    "df_top_stores = pd.read_sql_query(query, conn)\n",
    "df_top_stores\n"
   ]
  },
  {
   "cell_type": "markdown",
   "id": "70af0973",
   "metadata": {},
   "source": [
    "***👥 Staff Performance***\n",
    "\n",
    "Staff directly influence store operations and customer experience. This section evaluates staff distribution, activity levels, and effectiveness. \n",
    "\n",
    "It helps in identifying high-performing employees, workload distribution, and opportunities for training or restructuring."
   ]
  },
  {
   "cell_type": "markdown",
   "id": "1216a665",
   "metadata": {},
   "source": [
    "***staff performance based on orders processed***"
   ]
  },
  {
   "cell_type": "code",
   "execution_count": 49,
   "id": "4f07107e",
   "metadata": {},
   "outputs": [
    {
     "name": "stderr",
     "output_type": "stream",
     "text": [
      "C:\\Users\\Admin\\AppData\\Local\\Temp\\ipykernel_25476\\128620618.py:12: UserWarning: pandas only supports SQLAlchemy connectable (engine/connection) or database string URI or sqlite3 DBAPI2 connection. Other DBAPI2 objects are not tested. Please consider using SQLAlchemy.\n",
      "  df_top_staff = pd.read_sql_query(query, conn)\n"
     ]
    },
    {
     "data": {
      "text/html": [
       "<div>\n",
       "<style scoped>\n",
       "    .dataframe tbody tr th:only-of-type {\n",
       "        vertical-align: middle;\n",
       "    }\n",
       "\n",
       "    .dataframe tbody tr th {\n",
       "        vertical-align: top;\n",
       "    }\n",
       "\n",
       "    .dataframe thead th {\n",
       "        text-align: right;\n",
       "    }\n",
       "</style>\n",
       "<table border=\"1\" class=\"dataframe\">\n",
       "  <thead>\n",
       "    <tr style=\"text-align: right;\">\n",
       "      <th></th>\n",
       "      <th>staff_id</th>\n",
       "      <th>staff_name</th>\n",
       "      <th>total_orders</th>\n",
       "    </tr>\n",
       "  </thead>\n",
       "  <tbody>\n",
       "    <tr>\n",
       "      <th>0</th>\n",
       "      <td>6</td>\n",
       "      <td>Marcelene Boyer</td>\n",
       "      <td>553</td>\n",
       "    </tr>\n",
       "    <tr>\n",
       "      <th>1</th>\n",
       "      <td>7</td>\n",
       "      <td>Venita Daniel</td>\n",
       "      <td>540</td>\n",
       "    </tr>\n",
       "    <tr>\n",
       "      <th>2</th>\n",
       "      <td>3</td>\n",
       "      <td>Genna Serrano</td>\n",
       "      <td>184</td>\n",
       "    </tr>\n",
       "    <tr>\n",
       "      <th>3</th>\n",
       "      <td>2</td>\n",
       "      <td>Mireya Copeland</td>\n",
       "      <td>164</td>\n",
       "    </tr>\n",
       "    <tr>\n",
       "      <th>4</th>\n",
       "      <td>8</td>\n",
       "      <td>Kali Vargas</td>\n",
       "      <td>88</td>\n",
       "    </tr>\n",
       "    <tr>\n",
       "      <th>5</th>\n",
       "      <td>9</td>\n",
       "      <td>Layla Terrell</td>\n",
       "      <td>86</td>\n",
       "    </tr>\n",
       "  </tbody>\n",
       "</table>\n",
       "</div>"
      ],
      "text/plain": [
       "   staff_id       staff_name  total_orders\n",
       "0         6  Marcelene Boyer           553\n",
       "1         7    Venita Daniel           540\n",
       "2         3    Genna Serrano           184\n",
       "3         2  Mireya Copeland           164\n",
       "4         8      Kali Vargas            88\n",
       "5         9    Layla Terrell            86"
      ]
     },
     "execution_count": 49,
     "metadata": {},
     "output_type": "execute_result"
    }
   ],
   "source": [
    "query = \"\"\"\n",
    "SELECT \n",
    "    s.staff_id,\n",
    "    s.first_name || ' ' || s.last_name AS staff_name,\n",
    "    COUNT(o.order_id) AS total_orders\n",
    "FROM staffs s\n",
    "JOIN orders o ON s.staff_id = o.staff_id\n",
    "GROUP BY s.staff_id, staff_name\n",
    "ORDER BY total_orders DESC\n",
    "LIMIT 10;\n",
    "\"\"\"\n",
    "df_top_staff = pd.read_sql_query(query, conn)\n",
    "df_top_staff\n"
   ]
  },
  {
   "cell_type": "markdown",
   "id": "e164829d",
   "metadata": {},
   "source": [
    "***How many staff work in each store?***"
   ]
  },
  {
   "cell_type": "code",
   "execution_count": 50,
   "id": "1278ab7e",
   "metadata": {},
   "outputs": [
    {
     "name": "stderr",
     "output_type": "stream",
     "text": [
      "C:\\Users\\Admin\\AppData\\Local\\Temp\\ipykernel_25476\\3077932040.py:11: UserWarning: pandas only supports SQLAlchemy connectable (engine/connection) or database string URI or sqlite3 DBAPI2 connection. Other DBAPI2 objects are not tested. Please consider using SQLAlchemy.\n",
      "  df_staff_per_store = pd.read_sql_query(query, conn)\n"
     ]
    },
    {
     "data": {
      "image/png": "[encoded data removed]",
      "text/plain": [
       "<Figure size 1000x600 with 1 Axes>"
      ]
     },
     "metadata": {},
     "output_type": "display_data"
    }
   ],
   "source": [
    "query = \"\"\"\n",
    "SELECT \n",
    "    st.store_id,\n",
    "    st.store_name,\n",
    "    COUNT(sf.staff_id) AS staff_count\n",
    "FROM stores st\n",
    "LEFT JOIN staffs sf ON st.store_id = sf.store_id\n",
    "GROUP BY st.store_id, st.store_name\n",
    "ORDER BY staff_count DESC;\n",
    "\"\"\"\n",
    "df_staff_per_store = pd.read_sql_query(query, conn)\n",
    "df_staff_per_store\n",
    "# visualization\n",
    "plt.figure(figsize=(10,6))\n",
    "plt.bar(df_staff_per_store['store_name'], df_staff_per_store['staff_count'], color='orange')\n",
    "plt.title('Number of Staff per Store')\n",
    "plt.xlabel('Store')\n",
    "plt.ylabel('Staff Count')\n",
    "plt.xticks(rotation=45)\n",
    "plt.tight_layout()\n",
    "plt.show()\n"
   ]
  },
  {
   "cell_type": "code",
   "execution_count": 51,
   "id": "c42ddc29",
   "metadata": {},
   "outputs": [
    {
     "name": "stderr",
     "output_type": "stream",
     "text": [
      "C:\\Users\\Admin\\AppData\\Local\\Temp\\ipykernel_25476\\4228200539.py:9: UserWarning: pandas only supports SQLAlchemy connectable (engine/connection) or database string URI or sqlite3 DBAPI2 connection. Other DBAPI2 objects are not tested. Please consider using SQLAlchemy.\n",
      "  df_active_status = pd.read_sql_query(query, conn)\n"
     ]
    },
    {
     "data": {
      "text/html": [
       "<div>\n",
       "<style scoped>\n",
       "    .dataframe tbody tr th:only-of-type {\n",
       "        vertical-align: middle;\n",
       "    }\n",
       "\n",
       "    .dataframe tbody tr th {\n",
       "        vertical-align: top;\n",
       "    }\n",
       "\n",
       "    .dataframe thead th {\n",
       "        text-align: right;\n",
       "    }\n",
       "</style>\n",
       "<table border=\"1\" class=\"dataframe\">\n",
       "  <thead>\n",
       "    <tr style=\"text-align: right;\">\n",
       "      <th></th>\n",
       "      <th>active</th>\n",
       "      <th>staff_count</th>\n",
       "      <th>status</th>\n",
       "    </tr>\n",
       "  </thead>\n",
       "  <tbody>\n",
       "    <tr>\n",
       "      <th>0</th>\n",
       "      <td>True</td>\n",
       "      <td>10</td>\n",
       "      <td>Active</td>\n",
       "    </tr>\n",
       "  </tbody>\n",
       "</table>\n",
       "</div>"
      ],
      "text/plain": [
       "   active  staff_count  status\n",
       "0    True           10  Active"
      ]
     },
     "execution_count": 51,
     "metadata": {},
     "output_type": "execute_result"
    }
   ],
   "source": [
    "query = \"\"\"\n",
    "SELECT \n",
    "    active,\n",
    "    COUNT(*) AS staff_count\n",
    "FROM staffs\n",
    "GROUP BY active;\n",
    "\"\"\"\n",
    "\n",
    "df_active_status = pd.read_sql_query(query, conn)\n",
    "df_active_status\n",
    "df_active_status['status'] = df_active_status['active'].map({True: 'Active', False: 'Inactive'})\n",
    "df_active_status\n"
   ]
  },
  {
   "cell_type": "markdown",
   "id": "320ed7e3",
   "metadata": {},
   "source": [
    "***📦 Inventory Insights***\n",
    "\n",
    "Inventory management is critical for balancing supply and demand. \n",
    "\n",
    "This section examines stock levels across products and stores, identifies low or zero-stock items, and calculates inventory value. \n",
    "\n",
    "These insights help prevent stockouts, reduce holding costs, and inform procurement strategies."
   ]
  },
  {
   "cell_type": "markdown",
   "id": "2568ee15",
   "metadata": {},
   "source": [
    "***What is the total stock per product across all stores?***"
   ]
  },
  {
   "cell_type": "code",
   "execution_count": 52,
   "id": "89caa1f8",
   "metadata": {},
   "outputs": [
    {
     "name": "stderr",
     "output_type": "stream",
     "text": [
      "C:\\Users\\Admin\\AppData\\Local\\Temp\\ipykernel_25476\\2999109532.py:11: UserWarning: pandas only supports SQLAlchemy connectable (engine/connection) or database string URI or sqlite3 DBAPI2 connection. Other DBAPI2 objects are not tested. Please consider using SQLAlchemy.\n",
      "  df_total_stock = pd.read_sql_query(query, conn)\n"
     ]
    },
    {
     "data": {
      "text/html": [
       "<div>\n",
       "<style scoped>\n",
       "    .dataframe tbody tr th:only-of-type {\n",
       "        vertical-align: middle;\n",
       "    }\n",
       "\n",
       "    .dataframe tbody tr th {\n",
       "        vertical-align: top;\n",
       "    }\n",
       "\n",
       "    .dataframe thead th {\n",
       "        text-align: right;\n",
       "    }\n",
       "</style>\n",
       "<table border=\"1\" class=\"dataframe\">\n",
       "  <thead>\n",
       "    <tr style=\"text-align: right;\">\n",
       "      <th></th>\n",
       "      <th>product_id</th>\n",
       "      <th>product_name</th>\n",
       "      <th>total_stock</th>\n",
       "    </tr>\n",
       "  </thead>\n",
       "  <tbody>\n",
       "    <tr>\n",
       "      <th>0</th>\n",
       "      <td>188</td>\n",
       "      <td>Trek XM700+ Lowstep - 2018</td>\n",
       "      <td>86</td>\n",
       "    </tr>\n",
       "    <tr>\n",
       "      <th>1</th>\n",
       "      <td>64</td>\n",
       "      <td>Electra Townie Original 7D - 2017</td>\n",
       "      <td>82</td>\n",
       "    </tr>\n",
       "    <tr>\n",
       "      <th>2</th>\n",
       "      <td>109</td>\n",
       "      <td>Sun Bicycles Cruz 7 - Women's - 2017</td>\n",
       "      <td>79</td>\n",
       "    </tr>\n",
       "    <tr>\n",
       "      <th>3</th>\n",
       "      <td>196</td>\n",
       "      <td>Trek Verve+ - 2018</td>\n",
       "      <td>79</td>\n",
       "    </tr>\n",
       "    <tr>\n",
       "      <th>4</th>\n",
       "      <td>61</td>\n",
       "      <td>Trek Powerfly 8 FS Plus - 2017</td>\n",
       "      <td>78</td>\n",
       "    </tr>\n",
       "  </tbody>\n",
       "</table>\n",
       "</div>"
      ],
      "text/plain": [
       "   product_id                          product_name  total_stock\n",
       "0         188            Trek XM700+ Lowstep - 2018           86\n",
       "1          64     Electra Townie Original 7D - 2017           82\n",
       "2         109  Sun Bicycles Cruz 7 - Women's - 2017           79\n",
       "3         196                    Trek Verve+ - 2018           79\n",
       "4          61        Trek Powerfly 8 FS Plus - 2017           78"
      ]
     },
     "execution_count": 52,
     "metadata": {},
     "output_type": "execute_result"
    }
   ],
   "source": [
    "query = \"\"\"\n",
    "SELECT \n",
    "    p.product_id,\n",
    "    p.product_name,\n",
    "    SUM(s.quantity) AS total_stock\n",
    "FROM products p\n",
    "JOIN stocks s ON p.product_id = s.product_id\n",
    "GROUP BY p.product_id, p.product_name\n",
    "ORDER BY total_stock DESC;\n",
    "\"\"\"\n",
    "df_total_stock = pd.read_sql_query(query, conn)\n",
    "df_total_stock.head()\n"
   ]
  },
  {
   "cell_type": "markdown",
   "id": "af790e81",
   "metadata": {},
   "source": [
    "***Which store has the most inventory for each product?***"
   ]
  },
  {
   "cell_type": "code",
   "execution_count": 53,
   "id": "3c553e76",
   "metadata": {},
   "outputs": [
    {
     "name": "stderr",
     "output_type": "stream",
     "text": [
      "C:\\Users\\Admin\\AppData\\Local\\Temp\\ipykernel_25476\\617101794.py:18: UserWarning: pandas only supports SQLAlchemy connectable (engine/connection) or database string URI or sqlite3 DBAPI2 connection. Other DBAPI2 objects are not tested. Please consider using SQLAlchemy.\n",
      "  df_max_per_product = pd.read_sql_query(query, conn)\n"
     ]
    },
    {
     "data": {
      "text/html": [
       "<div>\n",
       "<style scoped>\n",
       "    .dataframe tbody tr th:only-of-type {\n",
       "        vertical-align: middle;\n",
       "    }\n",
       "\n",
       "    .dataframe tbody tr th {\n",
       "        vertical-align: top;\n",
       "    }\n",
       "\n",
       "    .dataframe thead th {\n",
       "        text-align: right;\n",
       "    }\n",
       "</style>\n",
       "<table border=\"1\" class=\"dataframe\">\n",
       "  <thead>\n",
       "    <tr style=\"text-align: right;\">\n",
       "      <th></th>\n",
       "      <th>product_id</th>\n",
       "      <th>product_name</th>\n",
       "      <th>store_id</th>\n",
       "      <th>store_name</th>\n",
       "      <th>quantity</th>\n",
       "    </tr>\n",
       "  </thead>\n",
       "  <tbody>\n",
       "    <tr>\n",
       "      <th>0</th>\n",
       "      <td>1</td>\n",
       "      <td>Trek 820 - 2016</td>\n",
       "      <td>1</td>\n",
       "      <td>Santa Cruz Bikes</td>\n",
       "      <td>27</td>\n",
       "    </tr>\n",
       "    <tr>\n",
       "      <th>1</th>\n",
       "      <td>2</td>\n",
       "      <td>Ritchey Timberwolf Frameset - 2016</td>\n",
       "      <td>3</td>\n",
       "      <td>Rowlett Bikes</td>\n",
       "      <td>24</td>\n",
       "    </tr>\n",
       "    <tr>\n",
       "      <th>2</th>\n",
       "      <td>3</td>\n",
       "      <td>Surly Wednesday Frameset - 2016</td>\n",
       "      <td>2</td>\n",
       "      <td>Baldwin Bikes</td>\n",
       "      <td>28</td>\n",
       "    </tr>\n",
       "    <tr>\n",
       "      <th>3</th>\n",
       "      <td>4</td>\n",
       "      <td>Trek Fuel EX 8 29 - 2016</td>\n",
       "      <td>1</td>\n",
       "      <td>Santa Cruz Bikes</td>\n",
       "      <td>23</td>\n",
       "    </tr>\n",
       "    <tr>\n",
       "      <th>4</th>\n",
       "      <td>5</td>\n",
       "      <td>Heller Shagamaw Frame - 2016</td>\n",
       "      <td>1</td>\n",
       "      <td>Santa Cruz Bikes</td>\n",
       "      <td>22</td>\n",
       "    </tr>\n",
       "  </tbody>\n",
       "</table>\n",
       "</div>"
      ],
      "text/plain": [
       "   product_id                        product_name  store_id        store_name  \\\n",
       "0           1                     Trek 820 - 2016         1  Santa Cruz Bikes   \n",
       "1           2  Ritchey Timberwolf Frameset - 2016         3     Rowlett Bikes   \n",
       "2           3     Surly Wednesday Frameset - 2016         2     Baldwin Bikes   \n",
       "3           4            Trek Fuel EX 8 29 - 2016         1  Santa Cruz Bikes   \n",
       "4           5        Heller Shagamaw Frame - 2016         1  Santa Cruz Bikes   \n",
       "\n",
       "   quantity  \n",
       "0        27  \n",
       "1        24  \n",
       "2        28  \n",
       "3        23  \n",
       "4        22  "
      ]
     },
     "execution_count": 53,
     "metadata": {},
     "output_type": "execute_result"
    }
   ],
   "source": [
    "query = \"\"\"\n",
    "SELECT \n",
    "    s.product_id,\n",
    "    p.product_name,\n",
    "    s.store_id,\n",
    "    st.store_name,\n",
    "    s.quantity\n",
    "FROM stocks s\n",
    "JOIN (\n",
    "    SELECT product_id, MAX(quantity) AS max_qty\n",
    "    FROM stocks\n",
    "    GROUP BY product_id\n",
    ") max_stock ON s.product_id = max_stock.product_id AND s.quantity = max_stock.max_qty\n",
    "JOIN products p ON s.product_id = p.product_id\n",
    "JOIN stores st ON s.store_id = st.store_id\n",
    "ORDER BY s.product_id;\n",
    "\"\"\"\n",
    "df_max_per_product = pd.read_sql_query(query, conn)\n",
    "df_max_per_product.head()\n"
   ]
  },
  {
   "cell_type": "markdown",
   "id": "87e2af5a",
   "metadata": {},
   "source": [
    "***Are there any products out of stock?***"
   ]
  },
  {
   "cell_type": "code",
   "execution_count": 54,
   "id": "6aa95805",
   "metadata": {},
   "outputs": [
    {
     "name": "stderr",
     "output_type": "stream",
     "text": [
      "C:\\Users\\Admin\\AppData\\Local\\Temp\\ipykernel_25476\\1636180390.py:10: UserWarning: pandas only supports SQLAlchemy connectable (engine/connection) or database string URI or sqlite3 DBAPI2 connection. Other DBAPI2 objects are not tested. Please consider using SQLAlchemy.\n",
      "  df_out_of_stock = pd.read_sql_query(query, conn)\n"
     ]
    },
    {
     "data": {
      "text/html": [
       "<div>\n",
       "<style scoped>\n",
       "    .dataframe tbody tr th:only-of-type {\n",
       "        vertical-align: middle;\n",
       "    }\n",
       "\n",
       "    .dataframe tbody tr th {\n",
       "        vertical-align: top;\n",
       "    }\n",
       "\n",
       "    .dataframe thead th {\n",
       "        text-align: right;\n",
       "    }\n",
       "</style>\n",
       "<table border=\"1\" class=\"dataframe\">\n",
       "  <thead>\n",
       "    <tr style=\"text-align: right;\">\n",
       "      <th></th>\n",
       "      <th>product_id</th>\n",
       "      <th>product_name</th>\n",
       "    </tr>\n",
       "  </thead>\n",
       "  <tbody>\n",
       "    <tr>\n",
       "      <th>0</th>\n",
       "      <td>314</td>\n",
       "      <td>Electra Townie Original 21D EQ Ladies' - 2018</td>\n",
       "    </tr>\n",
       "    <tr>\n",
       "      <th>1</th>\n",
       "      <td>315</td>\n",
       "      <td>Electra Townie Original 21D Ladies' - 2018</td>\n",
       "    </tr>\n",
       "    <tr>\n",
       "      <th>2</th>\n",
       "      <td>321</td>\n",
       "      <td>Trek Checkpoint ALR Frameset - 2019</td>\n",
       "    </tr>\n",
       "    <tr>\n",
       "      <th>3</th>\n",
       "      <td>319</td>\n",
       "      <td>Trek Checkpoint SL 5 Women's - 2019</td>\n",
       "    </tr>\n",
       "    <tr>\n",
       "      <th>4</th>\n",
       "      <td>320</td>\n",
       "      <td>Trek Checkpoint SL 6 - 2019</td>\n",
       "    </tr>\n",
       "    <tr>\n",
       "      <th>5</th>\n",
       "      <td>317</td>\n",
       "      <td>Trek Checkpoint ALR 5 - 2019</td>\n",
       "    </tr>\n",
       "    <tr>\n",
       "      <th>6</th>\n",
       "      <td>318</td>\n",
       "      <td>Trek Checkpoint ALR 5 Women's - 2019</td>\n",
       "    </tr>\n",
       "    <tr>\n",
       "      <th>7</th>\n",
       "      <td>316</td>\n",
       "      <td>Trek Checkpoint ALR 4 Women's - 2019</td>\n",
       "    </tr>\n",
       "  </tbody>\n",
       "</table>\n",
       "</div>"
      ],
      "text/plain": [
       "   product_id                                   product_name\n",
       "0         314  Electra Townie Original 21D EQ Ladies' - 2018\n",
       "1         315     Electra Townie Original 21D Ladies' - 2018\n",
       "2         321            Trek Checkpoint ALR Frameset - 2019\n",
       "3         319            Trek Checkpoint SL 5 Women's - 2019\n",
       "4         320                    Trek Checkpoint SL 6 - 2019\n",
       "5         317                   Trek Checkpoint ALR 5 - 2019\n",
       "6         318           Trek Checkpoint ALR 5 Women's - 2019\n",
       "7         316           Trek Checkpoint ALR 4 Women's - 2019"
      ]
     },
     "execution_count": 54,
     "metadata": {},
     "output_type": "execute_result"
    }
   ],
   "source": [
    "query = \"\"\"\n",
    "SELECT \n",
    "    p.product_id,\n",
    "    p.product_name\n",
    "FROM products p\n",
    "LEFT JOIN stocks s ON p.product_id = s.product_id\n",
    "GROUP BY p.product_id, p.product_name\n",
    "HAVING COALESCE(SUM(s.quantity), 0) = 0;\n",
    "\"\"\"\n",
    "df_out_of_stock = pd.read_sql_query(query, conn)\n",
    "df_out_of_stock\n"
   ]
  },
  {
   "cell_type": "markdown",
   "id": "8fec6db6",
   "metadata": {},
   "source": [
    "*** Which products have low inventory (e.g., <10 units)?***"
   ]
  },
  {
   "cell_type": "code",
   "execution_count": 55,
   "id": "75ec97ce",
   "metadata": {},
   "outputs": [
    {
     "name": "stderr",
     "output_type": "stream",
     "text": [
      "C:\\Users\\Admin\\AppData\\Local\\Temp\\ipykernel_25476\\639180895.py:12: UserWarning: pandas only supports SQLAlchemy connectable (engine/connection) or database string URI or sqlite3 DBAPI2 connection. Other DBAPI2 objects are not tested. Please consider using SQLAlchemy.\n",
      "  df_low_inventory = pd.read_sql_query(query, conn)\n"
     ]
    },
    {
     "data": {
      "text/html": [
       "<div>\n",
       "<style scoped>\n",
       "    .dataframe tbody tr th:only-of-type {\n",
       "        vertical-align: middle;\n",
       "    }\n",
       "\n",
       "    .dataframe tbody tr th {\n",
       "        vertical-align: top;\n",
       "    }\n",
       "\n",
       "    .dataframe thead th {\n",
       "        text-align: right;\n",
       "    }\n",
       "</style>\n",
       "<table border=\"1\" class=\"dataframe\">\n",
       "  <thead>\n",
       "    <tr style=\"text-align: right;\">\n",
       "      <th></th>\n",
       "      <th>product_id</th>\n",
       "      <th>product_name</th>\n",
       "      <th>total_stock</th>\n",
       "    </tr>\n",
       "  </thead>\n",
       "  <tbody>\n",
       "    <tr>\n",
       "      <th>0</th>\n",
       "      <td>175</td>\n",
       "      <td>Trek Domane SLR Frameset - 2018</td>\n",
       "      <td>5</td>\n",
       "    </tr>\n",
       "    <tr>\n",
       "      <th>1</th>\n",
       "      <td>289</td>\n",
       "      <td>Electra Superbolt 1 20 - 2018</td>\n",
       "      <td>9</td>\n",
       "    </tr>\n",
       "  </tbody>\n",
       "</table>\n",
       "</div>"
      ],
      "text/plain": [
       "   product_id                     product_name  total_stock\n",
       "0         175  Trek Domane SLR Frameset - 2018            5\n",
       "1         289    Electra Superbolt 1 20 - 2018            9"
      ]
     },
     "execution_count": 55,
     "metadata": {},
     "output_type": "execute_result"
    }
   ],
   "source": [
    "query = \"\"\"\n",
    "SELECT \n",
    "    p.product_id,\n",
    "    p.product_name,\n",
    "    SUM(s.quantity) AS total_stock\n",
    "FROM products p\n",
    "JOIN stocks s ON p.product_id = s.product_id\n",
    "GROUP BY p.product_id, p.product_name\n",
    "HAVING SUM(s.quantity) < 10\n",
    "ORDER BY total_stock;\n",
    "\"\"\"\n",
    "df_low_inventory = pd.read_sql_query(query, conn)\n",
    "df_low_inventory\n"
   ]
  },
  {
   "cell_type": "markdown",
   "id": "b906d514",
   "metadata": {},
   "source": [
    "***Inventory value per store***"
   ]
  },
  {
   "cell_type": "code",
   "execution_count": 56,
   "id": "a9042811",
   "metadata": {},
   "outputs": [
    {
     "name": "stderr",
     "output_type": "stream",
     "text": [
      "C:\\Users\\Admin\\AppData\\Local\\Temp\\ipykernel_25476\\3918348501.py:12: UserWarning: pandas only supports SQLAlchemy connectable (engine/connection) or database string URI or sqlite3 DBAPI2 connection. Other DBAPI2 objects are not tested. Please consider using SQLAlchemy.\n",
      "  df_inventory_value = pd.read_sql_query(query, conn)\n"
     ]
    },
    {
     "data": {
      "image/png": "[encoded data removed]",
      "text/plain": [
       "<Figure size 1000x600 with 1 Axes>"
      ]
     },
     "metadata": {},
     "output_type": "display_data"
    }
   ],
   "source": [
    "query = \"\"\"\n",
    "SELECT \n",
    "    st.store_id,\n",
    "    st.store_name,\n",
    "    ROUND(SUM(s.quantity * p.list_price), 2) AS inventory_value\n",
    "FROM stocks s\n",
    "JOIN stores st ON s.store_id = st.store_id\n",
    "JOIN products p ON s.product_id = p.product_id\n",
    "GROUP BY st.store_id, st.store_name\n",
    "ORDER BY inventory_value DESC;\n",
    "\"\"\"\n",
    "df_inventory_value = pd.read_sql_query(query, conn)\n",
    "df_inventory_value\n",
    "# visualization\n",
    "plt.figure(figsize=(10,6))\n",
    "plt.bar(df_inventory_value['store_name'], df_inventory_value['inventory_value'], color='slateblue')\n",
    "plt.title('Inventory Value per Store')\n",
    "plt.xlabel('Store')\n",
    "plt.ylabel('Inventory Value')\n",
    "plt.xticks(rotation=45)\n",
    "plt.tight_layout()\n",
    "plt.show()\n"
   ]
  },
  {
   "cell_type": "markdown",
   "id": "999e20b8",
   "metadata": {},
   "source": [
    "***📦 Product Insights***\n",
    "\n",
    "Analyzing product-level data helps the business understand market demand and product performance.\n",
    "\n",
    "This section identifies products with no sales, bestsellers, and those with low stock. \n",
    "\n",
    "It supports decisions on promotions, discontinuations, and product development."
   ]
  },
  {
   "cell_type": "markdown",
   "id": "cd9de29c",
   "metadata": {},
   "source": [
    "***Which products haven’t been ordered at all?***"
   ]
  },
  {
   "cell_type": "code",
   "execution_count": 57,
   "id": "43a3e4c8",
   "metadata": {},
   "outputs": [
    {
     "name": "stderr",
     "output_type": "stream",
     "text": [
      "C:\\Users\\Admin\\AppData\\Local\\Temp\\ipykernel_25476\\1648786499.py:9: UserWarning: pandas only supports SQLAlchemy connectable (engine/connection) or database string URI or sqlite3 DBAPI2 connection. Other DBAPI2 objects are not tested. Please consider using SQLAlchemy.\n",
      "  df_unordered_products = pd.read_sql_query(query, conn)\n"
     ]
    },
    {
     "data": {
      "text/html": [
       "<div>\n",
       "<style scoped>\n",
       "    .dataframe tbody tr th:only-of-type {\n",
       "        vertical-align: middle;\n",
       "    }\n",
       "\n",
       "    .dataframe tbody tr th {\n",
       "        vertical-align: top;\n",
       "    }\n",
       "\n",
       "    .dataframe thead th {\n",
       "        text-align: right;\n",
       "    }\n",
       "</style>\n",
       "<table border=\"1\" class=\"dataframe\">\n",
       "  <thead>\n",
       "    <tr style=\"text-align: right;\">\n",
       "      <th></th>\n",
       "      <th>product_id</th>\n",
       "      <th>product_name</th>\n",
       "    </tr>\n",
       "  </thead>\n",
       "  <tbody>\n",
       "    <tr>\n",
       "      <th>0</th>\n",
       "      <td>1</td>\n",
       "      <td>Trek 820 - 2016</td>\n",
       "    </tr>\n",
       "    <tr>\n",
       "      <th>1</th>\n",
       "      <td>121</td>\n",
       "      <td>Surly Krampus Frameset - 2018</td>\n",
       "    </tr>\n",
       "    <tr>\n",
       "      <th>2</th>\n",
       "      <td>125</td>\n",
       "      <td>Trek Kids' Dual Sport - 2018</td>\n",
       "    </tr>\n",
       "    <tr>\n",
       "      <th>3</th>\n",
       "      <td>154</td>\n",
       "      <td>Trek Domane SLR 6 Disc Women's - 2018</td>\n",
       "    </tr>\n",
       "    <tr>\n",
       "      <th>4</th>\n",
       "      <td>195</td>\n",
       "      <td>Electra Townie Go! 8i Ladies' - 2018</td>\n",
       "    </tr>\n",
       "    <tr>\n",
       "      <th>5</th>\n",
       "      <td>267</td>\n",
       "      <td>Trek Precaliber 12 Girl's - 2018</td>\n",
       "    </tr>\n",
       "    <tr>\n",
       "      <th>6</th>\n",
       "      <td>284</td>\n",
       "      <td>Electra Savannah 1 (20-inch) - Girl's - 2018</td>\n",
       "    </tr>\n",
       "    <tr>\n",
       "      <th>7</th>\n",
       "      <td>291</td>\n",
       "      <td>Electra Sweet Ride 1 (20-inch) - Girl's - 2018</td>\n",
       "    </tr>\n",
       "    <tr>\n",
       "      <th>8</th>\n",
       "      <td>316</td>\n",
       "      <td>Trek Checkpoint ALR 4 Women's - 2019</td>\n",
       "    </tr>\n",
       "    <tr>\n",
       "      <th>9</th>\n",
       "      <td>317</td>\n",
       "      <td>Trek Checkpoint ALR 5 - 2019</td>\n",
       "    </tr>\n",
       "    <tr>\n",
       "      <th>10</th>\n",
       "      <td>318</td>\n",
       "      <td>Trek Checkpoint ALR 5 Women's - 2019</td>\n",
       "    </tr>\n",
       "    <tr>\n",
       "      <th>11</th>\n",
       "      <td>319</td>\n",
       "      <td>Trek Checkpoint SL 5 Women's - 2019</td>\n",
       "    </tr>\n",
       "    <tr>\n",
       "      <th>12</th>\n",
       "      <td>320</td>\n",
       "      <td>Trek Checkpoint SL 6 - 2019</td>\n",
       "    </tr>\n",
       "    <tr>\n",
       "      <th>13</th>\n",
       "      <td>321</td>\n",
       "      <td>Trek Checkpoint ALR Frameset - 2019</td>\n",
       "    </tr>\n",
       "  </tbody>\n",
       "</table>\n",
       "</div>"
      ],
      "text/plain": [
       "    product_id                                    product_name\n",
       "0            1                                 Trek 820 - 2016\n",
       "1          121                   Surly Krampus Frameset - 2018\n",
       "2          125                    Trek Kids' Dual Sport - 2018\n",
       "3          154           Trek Domane SLR 6 Disc Women's - 2018\n",
       "4          195            Electra Townie Go! 8i Ladies' - 2018\n",
       "5          267                Trek Precaliber 12 Girl's - 2018\n",
       "6          284    Electra Savannah 1 (20-inch) - Girl's - 2018\n",
       "7          291  Electra Sweet Ride 1 (20-inch) - Girl's - 2018\n",
       "8          316            Trek Checkpoint ALR 4 Women's - 2019\n",
       "9          317                    Trek Checkpoint ALR 5 - 2019\n",
       "10         318            Trek Checkpoint ALR 5 Women's - 2019\n",
       "11         319             Trek Checkpoint SL 5 Women's - 2019\n",
       "12         320                     Trek Checkpoint SL 6 - 2019\n",
       "13         321             Trek Checkpoint ALR Frameset - 2019"
      ]
     },
     "execution_count": 57,
     "metadata": {},
     "output_type": "execute_result"
    }
   ],
   "source": [
    "query = \"\"\"\n",
    "SELECT \n",
    "    p.product_id,\n",
    "    p.product_name\n",
    "FROM products p\n",
    "LEFT JOIN order_items oi ON p.product_id = oi.product_id\n",
    "WHERE oi.product_id IS NULL;\n",
    "\"\"\"\n",
    "df_unordered_products = pd.read_sql_query(query, conn)\n",
    "df_unordered_products\n"
   ]
  }
 ],
 "metadata": {
  "kernelspec": {
   "display_name": "Python 3",
   "language": "python",
   "name": "python3"
  },
  "language_info": {
   "codemirror_mode": {
    "name": "ipython",
    "version": 3
   },
   "file_extension": ".py",
   "mimetype": "text/x-python",
   "name": "python",
   "nbconvert_exporter": "python",
   "pygments_lexer": "ipython3",
   "version": "3.13.3"
  }
 },
 "nbformat": 4,
 "nbformat_minor": 5
}
